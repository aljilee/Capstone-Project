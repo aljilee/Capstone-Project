{
 "cells": [
  {
   "cell_type": "code",
   "execution_count": 1,
   "metadata": {},
   "outputs": [],
   "source": [
    "#import needed libraries\n",
    "import pandas as pd\n",
    "from sklearn.model_selection import train_test_split\n",
    "from sklearn.metrics import mean_squared_error\n",
    "from sklearn.metrics import mean_absolute_error\n",
    "from sklearn.dummy import DummyRegressor\n",
    "import matplotlib.pyplot as plt\n",
    "from xgboost import XGBRegressor\n",
    "from sklearn.neural_network import MLPRegressor\n",
    "from pycaret.regression import *"
   ]
  },
  {
   "cell_type": "markdown",
   "metadata": {},
   "source": [
    "## Load Ward Data\n",
    "Use same code for 1, 3, and 5 year return values"
   ]
  },
  {
   "cell_type": "code",
   "execution_count": 2,
   "metadata": {},
   "outputs": [],
   "source": [
    "#load file with investment return for wards (included ward returns), use for 1, 3, 5 years\n",
    "\n",
    "#use for 1 year\n",
    "df = pd.read_excel('one_year_features.xlsx', index_col=0)\n",
    "\n",
    "#use for 3 year\n",
    "#df = pd.read_excel('three_year_features.xlsx', index_col=0)\n",
    "\n",
    "#use for 5 year\n",
    "#df = pd.read_excel('five_year_features.xlsx', index_col=0)"
   ]
  },
  {
   "cell_type": "code",
   "execution_count": 3,
   "metadata": {},
   "outputs": [
    {
     "data": {
      "text/plain": [
       "Index(['1y_ret', '1y_ret_ward', 'Price', 'Year', 'Type', 'Ward',\n",
       "       'Number of Parks', 'Number of Primary Schools',\n",
       "       'Primary School AVG Rating', 'Number of Secondary Schools',\n",
       "       'Secondary School AVG Rating', 'Number of Post 16 Schools',\n",
       "       'Post 16 School AVG Rating', 'Number of Healthcare Services',\n",
       "       'Number of Dentistries', 'Number of High Severity Crimes Previous Year',\n",
       "       'Number of Low Severity Crimes Previous Year'],\n",
       "      dtype='object')"
      ]
     },
     "execution_count": 3,
     "metadata": {},
     "output_type": "execute_result"
    }
   ],
   "source": [
    "#check columns\n",
    "df.columns"
   ]
  },
  {
   "cell_type": "code",
   "execution_count": 4,
   "metadata": {},
   "outputs": [],
   "source": [
    "#drop unused columns, may investigate raw return and price \n",
    "\n",
    "#use for 1 year\n",
    "df = df.drop(['1y_ret', 'Ward', 'Year', 'Price'], axis=1)\n",
    "\n",
    "#use for 3 year\n",
    "#df = df.drop(['3y_ret', 'Ward', 'Year', Price'], axis=1)\n",
    "\n",
    "#use for 5 year\n",
    "#df = df.drop(['5y_ret', 'Ward', 'Year', 'Price'], axis=1)"
   ]
  },
  {
   "cell_type": "markdown",
   "metadata": {},
   "source": [
    "## Prepare Data for Models"
   ]
  },
  {
   "cell_type": "code",
   "execution_count": 5,
   "metadata": {},
   "outputs": [],
   "source": [
    "#one hot encode home type\n",
    "one_hot = pd.get_dummies(df['Type'])\n",
    "df = df.drop('Type',axis = 1)\n",
    "df = df.join(one_hot) "
   ]
  },
  {
   "cell_type": "code",
   "execution_count": 6,
   "metadata": {},
   "outputs": [],
   "source": [
    "#set X and y\n",
    "\n",
    "#use for 1 year\n",
    "X = df.drop(['1y_ret_ward'], axis=1)\n",
    "y = df['1y_ret_ward']\n",
    "\n",
    "#use for 3 year\n",
    "#X = df.drop(['3y_ret_ward'], axis=1)\n",
    "#y = df['3y_ret_ward']\n",
    "\n",
    "#use for 5 year\n",
    "#X = df.drop(['5y_ret_ward'], axis=1)\n",
    "#y = df['5y_ret_ward']"
   ]
  },
  {
   "cell_type": "code",
   "execution_count": 7,
   "metadata": {},
   "outputs": [],
   "source": [
    "#split the data (default test size is 0.25)\n",
    "X_train, X_test, y_train, y_test = train_test_split(X, y, random_state=42)"
   ]
  },
  {
   "cell_type": "code",
   "execution_count": 8,
   "metadata": {},
   "outputs": [
    {
     "name": "stdout",
     "output_type": "stream",
     "text": [
      "(528, 15) (176, 15)\n"
     ]
    }
   ],
   "source": [
    "#confirm sizes\n",
    "print(X_train.shape, X_test.shape)"
   ]
  },
  {
   "cell_type": "code",
   "execution_count": 9,
   "metadata": {},
   "outputs": [],
   "source": [
    "#pip install xgboost"
   ]
  },
  {
   "cell_type": "markdown",
   "metadata": {},
   "source": [
    "## XGBRegressor"
   ]
  },
  {
   "cell_type": "code",
   "execution_count": 10,
   "metadata": {},
   "outputs": [],
   "source": [
    "#create XBGRegressor model and fit data\n",
    "model = XGBRegressor()\n",
    "model.fit(X_train, y_train);"
   ]
  },
  {
   "cell_type": "code",
   "execution_count": 11,
   "metadata": {},
   "outputs": [],
   "source": [
    "#create predictions\n",
    "y_pred = model.predict(X_test)"
   ]
  },
  {
   "cell_type": "code",
   "execution_count": 12,
   "metadata": {},
   "outputs": [
    {
     "data": {
      "text/plain": [
       "0.07803581397408721"
      ]
     },
     "execution_count": 12,
     "metadata": {},
     "output_type": "execute_result"
    }
   ],
   "source": [
    "#check MSE values\n",
    "mse_val = mean_squared_error(y_test, y_pred)\n",
    "mse_val"
   ]
  },
  {
   "cell_type": "code",
   "execution_count": 13,
   "metadata": {},
   "outputs": [
    {
     "data": {
      "text/plain": [
       "0.16918672122814782"
      ]
     },
     "execution_count": 13,
     "metadata": {},
     "output_type": "execute_result"
    }
   ],
   "source": [
    "#check MAE values\n",
    "mae_val = mean_absolute_error(y_test, y_pred)\n",
    "mae_val"
   ]
  },
  {
   "cell_type": "code",
   "execution_count": 14,
   "metadata": {},
   "outputs": [
    {
     "name": "stdout",
     "output_type": "stream",
     "text": [
      "Number of Parks 0.02493378\n",
      "Number of Primary Schools 0.06577208\n",
      "Primary School AVG Rating 0.030366847\n",
      "Number of Secondary Schools 0.1855326\n",
      "Secondary School AVG Rating 0.028699027\n",
      "Number of Post 16 Schools 0.031709243\n",
      "Post 16 School AVG Rating 0.02753231\n",
      "Number of Healthcare Services 0.043743055\n",
      "Number of Dentistries 0.031359766\n",
      "Number of High Severity Crimes Previous Year 0.1020069\n",
      "Number of Low Severity Crimes Previous Year 0.048696492\n",
      "D 0.07493894\n",
      "F 0.22611603\n",
      "S 0.032927614\n",
      "T 0.045665227\n"
     ]
    }
   ],
   "source": [
    "#explore feature importance\n",
    "for col,score in zip(X_train.columns,model.feature_importances_):\n",
    "    print(col,score)"
   ]
  },
  {
   "cell_type": "code",
   "execution_count": 15,
   "metadata": {},
   "outputs": [
    {
     "data": {
      "text/plain": [
       "<matplotlib.collections.PathCollection at 0x7fb1c6eb4e50>"
      ]
     },
     "execution_count": 15,
     "metadata": {},
     "output_type": "execute_result"
    },
    {
     "data": {
      "image/png": "[encoded data removed]",
      "text/plain": [
       "<Figure size 576x396 with 1 Axes>"
      ]
     },
     "metadata": {},
     "output_type": "display_data"
    }
   ],
   "source": [
    "#plot predicted values vs. true value\n",
    "plt.scatter(y_pred, y_test)"
   ]
  },
  {
   "cell_type": "markdown",
   "metadata": {},
   "source": [
    "## Dummy Regressor"
   ]
  },
  {
   "cell_type": "code",
   "execution_count": 16,
   "metadata": {},
   "outputs": [],
   "source": [
    "#set up and predicte values using dummy regressor and means\n",
    "dummy_regr = DummyRegressor(strategy=\"mean\")\n",
    "dummy_regr.fit(X_train, y_train)\n",
    "y_pred_dummy = dummy_regr.predict(X_test)"
   ]
  },
  {
   "cell_type": "code",
   "execution_count": 17,
   "metadata": {},
   "outputs": [
    {
     "data": {
      "text/plain": [
       "0.0429236358645622"
      ]
     },
     "execution_count": 17,
     "metadata": {},
     "output_type": "execute_result"
    }
   ],
   "source": [
    "#check MSE values\n",
    "mse_val = mean_squared_error(y_test, y_pred_dummy)\n",
    "mse_val"
   ]
  },
  {
   "cell_type": "code",
   "execution_count": 18,
   "metadata": {},
   "outputs": [
    {
     "data": {
      "text/plain": [
       "0.12695337975398086"
      ]
     },
     "execution_count": 18,
     "metadata": {},
     "output_type": "execute_result"
    }
   ],
   "source": [
    "#check MAE values\n",
    "mae_val = mean_absolute_error(y_test, y_pred_dummy)\n",
    "mae_val"
   ]
  },
  {
   "cell_type": "markdown",
   "metadata": {},
   "source": [
    "## MLPRegressor"
   ]
  },
  {
   "cell_type": "code",
   "execution_count": 19,
   "metadata": {},
   "outputs": [],
   "source": [
    "#set up MLP regression model, fit data, and predict values\n",
    "mlp_reg = MLPRegressor(random_state=42, max_iter=500).fit(X_train, y_train)\n",
    "y_pred  = mlp_reg.predict(X_test)"
   ]
  },
  {
   "cell_type": "code",
   "execution_count": 20,
   "metadata": {},
   "outputs": [
    {
     "data": {
      "text/plain": [
       "0.08788798720350242"
      ]
     },
     "execution_count": 20,
     "metadata": {},
     "output_type": "execute_result"
    }
   ],
   "source": [
    "#check MSE values\n",
    "mse_val = mean_squared_error(y_test, y_pred)\n",
    "mse_val"
   ]
  },
  {
   "cell_type": "code",
   "execution_count": 21,
   "metadata": {},
   "outputs": [
    {
     "data": {
      "text/plain": [
       "0.2088249924931773"
      ]
     },
     "execution_count": 21,
     "metadata": {},
     "output_type": "execute_result"
    }
   ],
   "source": [
    "#check MAE values\n",
    "mae_val = mean_absolute_error(y_test, y_pred)\n",
    "mae_val"
   ]
  },
  {
   "cell_type": "markdown",
   "metadata": {},
   "source": [
    "## PyCaret"
   ]
  },
  {
   "cell_type": "code",
   "execution_count": 22,
   "metadata": {},
   "outputs": [],
   "source": [
    "#pip install pycaret"
   ]
  },
  {
   "cell_type": "code",
   "execution_count": 23,
   "metadata": {},
   "outputs": [
    {
     "data": {
      "text/plain": [
       "Index(['1y_ret_ward', 'Number of Parks', 'Number of Primary Schools',\n",
       "       'Primary School AVG Rating', 'Number of Secondary Schools',\n",
       "       'Secondary School AVG Rating', 'Number of Post 16 Schools',\n",
       "       'Post 16 School AVG Rating', 'Number of Healthcare Services',\n",
       "       'Number of Dentistries', 'Number of High Severity Crimes Previous Year',\n",
       "       'Number of Low Severity Crimes Previous Year', 'D', 'F', 'S', 'T'],\n",
       "      dtype='object')"
      ]
     },
     "execution_count": 23,
     "metadata": {},
     "output_type": "execute_result"
    }
   ],
   "source": [
    "#review columns\n",
    "df.columns"
   ]
  },
  {
   "cell_type": "code",
   "execution_count": 24,
   "metadata": {},
   "outputs": [
    {
     "data": {
      "text/html": [
       "<style  type=\"text/css\" >\n",
       "#T_78177d82_2241_11ed_af8c_a45e60e9ef7frow42_col1{\n",
       "            background-color:  lightgreen;\n",
       "        }</style><table id=\"T_78177d82_2241_11ed_af8c_a45e60e9ef7f\" ><thead>    <tr>        <th class=\"blank level0\" ></th>        <th class=\"col_heading level0 col0\" >Description</th>        <th class=\"col_heading level0 col1\" >Value</th>    </tr></thead><tbody>\n",
       "                <tr>\n",
       "                        <th id=\"T_78177d82_2241_11ed_af8c_a45e60e9ef7flevel0_row0\" class=\"row_heading level0 row0\" >0</th>\n",
       "                        <td id=\"T_78177d82_2241_11ed_af8c_a45e60e9ef7frow0_col0\" class=\"data row0 col0\" >session_id</td>\n",
       "                        <td id=\"T_78177d82_2241_11ed_af8c_a45e60e9ef7frow0_col1\" class=\"data row0 col1\" >123</td>\n",
       "            </tr>\n",
       "            <tr>\n",
       "                        <th id=\"T_78177d82_2241_11ed_af8c_a45e60e9ef7flevel0_row1\" class=\"row_heading level0 row1\" >1</th>\n",
       "                        <td id=\"T_78177d82_2241_11ed_af8c_a45e60e9ef7frow1_col0\" class=\"data row1 col0\" >Target</td>\n",
       "                        <td id=\"T_78177d82_2241_11ed_af8c_a45e60e9ef7frow1_col1\" class=\"data row1 col1\" >1y_ret_ward</td>\n",
       "            </tr>\n",
       "            <tr>\n",
       "                        <th id=\"T_78177d82_2241_11ed_af8c_a45e60e9ef7flevel0_row2\" class=\"row_heading level0 row2\" >2</th>\n",
       "                        <td id=\"T_78177d82_2241_11ed_af8c_a45e60e9ef7frow2_col0\" class=\"data row2 col0\" >Original Data</td>\n",
       "                        <td id=\"T_78177d82_2241_11ed_af8c_a45e60e9ef7frow2_col1\" class=\"data row2 col1\" >(704, 16)</td>\n",
       "            </tr>\n",
       "            <tr>\n",
       "                        <th id=\"T_78177d82_2241_11ed_af8c_a45e60e9ef7flevel0_row3\" class=\"row_heading level0 row3\" >3</th>\n",
       "                        <td id=\"T_78177d82_2241_11ed_af8c_a45e60e9ef7frow3_col0\" class=\"data row3 col0\" >Missing Values</td>\n",
       "                        <td id=\"T_78177d82_2241_11ed_af8c_a45e60e9ef7frow3_col1\" class=\"data row3 col1\" >False</td>\n",
       "            </tr>\n",
       "            <tr>\n",
       "                        <th id=\"T_78177d82_2241_11ed_af8c_a45e60e9ef7flevel0_row4\" class=\"row_heading level0 row4\" >4</th>\n",
       "                        <td id=\"T_78177d82_2241_11ed_af8c_a45e60e9ef7frow4_col0\" class=\"data row4 col0\" >Numeric Features</td>\n",
       "                        <td id=\"T_78177d82_2241_11ed_af8c_a45e60e9ef7frow4_col1\" class=\"data row4 col1\" >15</td>\n",
       "            </tr>\n",
       "            <tr>\n",
       "                        <th id=\"T_78177d82_2241_11ed_af8c_a45e60e9ef7flevel0_row5\" class=\"row_heading level0 row5\" >5</th>\n",
       "                        <td id=\"T_78177d82_2241_11ed_af8c_a45e60e9ef7frow5_col0\" class=\"data row5 col0\" >Categorical Features</td>\n",
       "                        <td id=\"T_78177d82_2241_11ed_af8c_a45e60e9ef7frow5_col1\" class=\"data row5 col1\" >0</td>\n",
       "            </tr>\n",
       "            <tr>\n",
       "                        <th id=\"T_78177d82_2241_11ed_af8c_a45e60e9ef7flevel0_row6\" class=\"row_heading level0 row6\" >6</th>\n",
       "                        <td id=\"T_78177d82_2241_11ed_af8c_a45e60e9ef7frow6_col0\" class=\"data row6 col0\" >Ordinal Features</td>\n",
       "                        <td id=\"T_78177d82_2241_11ed_af8c_a45e60e9ef7frow6_col1\" class=\"data row6 col1\" >False</td>\n",
       "            </tr>\n",
       "            <tr>\n",
       "                        <th id=\"T_78177d82_2241_11ed_af8c_a45e60e9ef7flevel0_row7\" class=\"row_heading level0 row7\" >7</th>\n",
       "                        <td id=\"T_78177d82_2241_11ed_af8c_a45e60e9ef7frow7_col0\" class=\"data row7 col0\" >High Cardinality Features</td>\n",
       "                        <td id=\"T_78177d82_2241_11ed_af8c_a45e60e9ef7frow7_col1\" class=\"data row7 col1\" >False</td>\n",
       "            </tr>\n",
       "            <tr>\n",
       "                        <th id=\"T_78177d82_2241_11ed_af8c_a45e60e9ef7flevel0_row8\" class=\"row_heading level0 row8\" >8</th>\n",
       "                        <td id=\"T_78177d82_2241_11ed_af8c_a45e60e9ef7frow8_col0\" class=\"data row8 col0\" >High Cardinality Method</td>\n",
       "                        <td id=\"T_78177d82_2241_11ed_af8c_a45e60e9ef7frow8_col1\" class=\"data row8 col1\" >None</td>\n",
       "            </tr>\n",
       "            <tr>\n",
       "                        <th id=\"T_78177d82_2241_11ed_af8c_a45e60e9ef7flevel0_row9\" class=\"row_heading level0 row9\" >9</th>\n",
       "                        <td id=\"T_78177d82_2241_11ed_af8c_a45e60e9ef7frow9_col0\" class=\"data row9 col0\" >Transformed Train Set</td>\n",
       "                        <td id=\"T_78177d82_2241_11ed_af8c_a45e60e9ef7frow9_col1\" class=\"data row9 col1\" >(492, 15)</td>\n",
       "            </tr>\n",
       "            <tr>\n",
       "                        <th id=\"T_78177d82_2241_11ed_af8c_a45e60e9ef7flevel0_row10\" class=\"row_heading level0 row10\" >10</th>\n",
       "                        <td id=\"T_78177d82_2241_11ed_af8c_a45e60e9ef7frow10_col0\" class=\"data row10 col0\" >Transformed Test Set</td>\n",
       "                        <td id=\"T_78177d82_2241_11ed_af8c_a45e60e9ef7frow10_col1\" class=\"data row10 col1\" >(212, 15)</td>\n",
       "            </tr>\n",
       "            <tr>\n",
       "                        <th id=\"T_78177d82_2241_11ed_af8c_a45e60e9ef7flevel0_row11\" class=\"row_heading level0 row11\" >11</th>\n",
       "                        <td id=\"T_78177d82_2241_11ed_af8c_a45e60e9ef7frow11_col0\" class=\"data row11 col0\" >Shuffle Train-Test</td>\n",
       "                        <td id=\"T_78177d82_2241_11ed_af8c_a45e60e9ef7frow11_col1\" class=\"data row11 col1\" >True</td>\n",
       "            </tr>\n",
       "            <tr>\n",
       "                        <th id=\"T_78177d82_2241_11ed_af8c_a45e60e9ef7flevel0_row12\" class=\"row_heading level0 row12\" >12</th>\n",
       "                        <td id=\"T_78177d82_2241_11ed_af8c_a45e60e9ef7frow12_col0\" class=\"data row12 col0\" >Stratify Train-Test</td>\n",
       "                        <td id=\"T_78177d82_2241_11ed_af8c_a45e60e9ef7frow12_col1\" class=\"data row12 col1\" >False</td>\n",
       "            </tr>\n",
       "            <tr>\n",
       "                        <th id=\"T_78177d82_2241_11ed_af8c_a45e60e9ef7flevel0_row13\" class=\"row_heading level0 row13\" >13</th>\n",
       "                        <td id=\"T_78177d82_2241_11ed_af8c_a45e60e9ef7frow13_col0\" class=\"data row13 col0\" >Fold Generator</td>\n",
       "                        <td id=\"T_78177d82_2241_11ed_af8c_a45e60e9ef7frow13_col1\" class=\"data row13 col1\" >KFold</td>\n",
       "            </tr>\n",
       "            <tr>\n",
       "                        <th id=\"T_78177d82_2241_11ed_af8c_a45e60e9ef7flevel0_row14\" class=\"row_heading level0 row14\" >14</th>\n",
       "                        <td id=\"T_78177d82_2241_11ed_af8c_a45e60e9ef7frow14_col0\" class=\"data row14 col0\" >Fold Number</td>\n",
       "                        <td id=\"T_78177d82_2241_11ed_af8c_a45e60e9ef7frow14_col1\" class=\"data row14 col1\" >10</td>\n",
       "            </tr>\n",
       "            <tr>\n",
       "                        <th id=\"T_78177d82_2241_11ed_af8c_a45e60e9ef7flevel0_row15\" class=\"row_heading level0 row15\" >15</th>\n",
       "                        <td id=\"T_78177d82_2241_11ed_af8c_a45e60e9ef7frow15_col0\" class=\"data row15 col0\" >CPU Jobs</td>\n",
       "                        <td id=\"T_78177d82_2241_11ed_af8c_a45e60e9ef7frow15_col1\" class=\"data row15 col1\" >-1</td>\n",
       "            </tr>\n",
       "            <tr>\n",
       "                        <th id=\"T_78177d82_2241_11ed_af8c_a45e60e9ef7flevel0_row16\" class=\"row_heading level0 row16\" >16</th>\n",
       "                        <td id=\"T_78177d82_2241_11ed_af8c_a45e60e9ef7frow16_col0\" class=\"data row16 col0\" >Use GPU</td>\n",
       "                        <td id=\"T_78177d82_2241_11ed_af8c_a45e60e9ef7frow16_col1\" class=\"data row16 col1\" >False</td>\n",
       "            </tr>\n",
       "            <tr>\n",
       "                        <th id=\"T_78177d82_2241_11ed_af8c_a45e60e9ef7flevel0_row17\" class=\"row_heading level0 row17\" >17</th>\n",
       "                        <td id=\"T_78177d82_2241_11ed_af8c_a45e60e9ef7frow17_col0\" class=\"data row17 col0\" >Log Experiment</td>\n",
       "                        <td id=\"T_78177d82_2241_11ed_af8c_a45e60e9ef7frow17_col1\" class=\"data row17 col1\" >False</td>\n",
       "            </tr>\n",
       "            <tr>\n",
       "                        <th id=\"T_78177d82_2241_11ed_af8c_a45e60e9ef7flevel0_row18\" class=\"row_heading level0 row18\" >18</th>\n",
       "                        <td id=\"T_78177d82_2241_11ed_af8c_a45e60e9ef7frow18_col0\" class=\"data row18 col0\" >Experiment Name</td>\n",
       "                        <td id=\"T_78177d82_2241_11ed_af8c_a45e60e9ef7frow18_col1\" class=\"data row18 col1\" >reg-default-name</td>\n",
       "            </tr>\n",
       "            <tr>\n",
       "                        <th id=\"T_78177d82_2241_11ed_af8c_a45e60e9ef7flevel0_row19\" class=\"row_heading level0 row19\" >19</th>\n",
       "                        <td id=\"T_78177d82_2241_11ed_af8c_a45e60e9ef7frow19_col0\" class=\"data row19 col0\" >USI</td>\n",
       "                        <td id=\"T_78177d82_2241_11ed_af8c_a45e60e9ef7frow19_col1\" class=\"data row19 col1\" >c972</td>\n",
       "            </tr>\n",
       "            <tr>\n",
       "                        <th id=\"T_78177d82_2241_11ed_af8c_a45e60e9ef7flevel0_row20\" class=\"row_heading level0 row20\" >20</th>\n",
       "                        <td id=\"T_78177d82_2241_11ed_af8c_a45e60e9ef7frow20_col0\" class=\"data row20 col0\" >Imputation Type</td>\n",
       "                        <td id=\"T_78177d82_2241_11ed_af8c_a45e60e9ef7frow20_col1\" class=\"data row20 col1\" >simple</td>\n",
       "            </tr>\n",
       "            <tr>\n",
       "                        <th id=\"T_78177d82_2241_11ed_af8c_a45e60e9ef7flevel0_row21\" class=\"row_heading level0 row21\" >21</th>\n",
       "                        <td id=\"T_78177d82_2241_11ed_af8c_a45e60e9ef7frow21_col0\" class=\"data row21 col0\" >Iterative Imputation Iteration</td>\n",
       "                        <td id=\"T_78177d82_2241_11ed_af8c_a45e60e9ef7frow21_col1\" class=\"data row21 col1\" >None</td>\n",
       "            </tr>\n",
       "            <tr>\n",
       "                        <th id=\"T_78177d82_2241_11ed_af8c_a45e60e9ef7flevel0_row22\" class=\"row_heading level0 row22\" >22</th>\n",
       "                        <td id=\"T_78177d82_2241_11ed_af8c_a45e60e9ef7frow22_col0\" class=\"data row22 col0\" >Numeric Imputer</td>\n",
       "                        <td id=\"T_78177d82_2241_11ed_af8c_a45e60e9ef7frow22_col1\" class=\"data row22 col1\" >mean</td>\n",
       "            </tr>\n",
       "            <tr>\n",
       "                        <th id=\"T_78177d82_2241_11ed_af8c_a45e60e9ef7flevel0_row23\" class=\"row_heading level0 row23\" >23</th>\n",
       "                        <td id=\"T_78177d82_2241_11ed_af8c_a45e60e9ef7frow23_col0\" class=\"data row23 col0\" >Iterative Imputation Numeric Model</td>\n",
       "                        <td id=\"T_78177d82_2241_11ed_af8c_a45e60e9ef7frow23_col1\" class=\"data row23 col1\" >None</td>\n",
       "            </tr>\n",
       "            <tr>\n",
       "                        <th id=\"T_78177d82_2241_11ed_af8c_a45e60e9ef7flevel0_row24\" class=\"row_heading level0 row24\" >24</th>\n",
       "                        <td id=\"T_78177d82_2241_11ed_af8c_a45e60e9ef7frow24_col0\" class=\"data row24 col0\" >Categorical Imputer</td>\n",
       "                        <td id=\"T_78177d82_2241_11ed_af8c_a45e60e9ef7frow24_col1\" class=\"data row24 col1\" >constant</td>\n",
       "            </tr>\n",
       "            <tr>\n",
       "                        <th id=\"T_78177d82_2241_11ed_af8c_a45e60e9ef7flevel0_row25\" class=\"row_heading level0 row25\" >25</th>\n",
       "                        <td id=\"T_78177d82_2241_11ed_af8c_a45e60e9ef7frow25_col0\" class=\"data row25 col0\" >Iterative Imputation Categorical Model</td>\n",
       "                        <td id=\"T_78177d82_2241_11ed_af8c_a45e60e9ef7frow25_col1\" class=\"data row25 col1\" >None</td>\n",
       "            </tr>\n",
       "            <tr>\n",
       "                        <th id=\"T_78177d82_2241_11ed_af8c_a45e60e9ef7flevel0_row26\" class=\"row_heading level0 row26\" >26</th>\n",
       "                        <td id=\"T_78177d82_2241_11ed_af8c_a45e60e9ef7frow26_col0\" class=\"data row26 col0\" >Unknown Categoricals Handling</td>\n",
       "                        <td id=\"T_78177d82_2241_11ed_af8c_a45e60e9ef7frow26_col1\" class=\"data row26 col1\" >least_frequent</td>\n",
       "            </tr>\n",
       "            <tr>\n",
       "                        <th id=\"T_78177d82_2241_11ed_af8c_a45e60e9ef7flevel0_row27\" class=\"row_heading level0 row27\" >27</th>\n",
       "                        <td id=\"T_78177d82_2241_11ed_af8c_a45e60e9ef7frow27_col0\" class=\"data row27 col0\" >Normalize</td>\n",
       "                        <td id=\"T_78177d82_2241_11ed_af8c_a45e60e9ef7frow27_col1\" class=\"data row27 col1\" >False</td>\n",
       "            </tr>\n",
       "            <tr>\n",
       "                        <th id=\"T_78177d82_2241_11ed_af8c_a45e60e9ef7flevel0_row28\" class=\"row_heading level0 row28\" >28</th>\n",
       "                        <td id=\"T_78177d82_2241_11ed_af8c_a45e60e9ef7frow28_col0\" class=\"data row28 col0\" >Normalize Method</td>\n",
       "                        <td id=\"T_78177d82_2241_11ed_af8c_a45e60e9ef7frow28_col1\" class=\"data row28 col1\" >None</td>\n",
       "            </tr>\n",
       "            <tr>\n",
       "                        <th id=\"T_78177d82_2241_11ed_af8c_a45e60e9ef7flevel0_row29\" class=\"row_heading level0 row29\" >29</th>\n",
       "                        <td id=\"T_78177d82_2241_11ed_af8c_a45e60e9ef7frow29_col0\" class=\"data row29 col0\" >Transformation</td>\n",
       "                        <td id=\"T_78177d82_2241_11ed_af8c_a45e60e9ef7frow29_col1\" class=\"data row29 col1\" >False</td>\n",
       "            </tr>\n",
       "            <tr>\n",
       "                        <th id=\"T_78177d82_2241_11ed_af8c_a45e60e9ef7flevel0_row30\" class=\"row_heading level0 row30\" >30</th>\n",
       "                        <td id=\"T_78177d82_2241_11ed_af8c_a45e60e9ef7frow30_col0\" class=\"data row30 col0\" >Transformation Method</td>\n",
       "                        <td id=\"T_78177d82_2241_11ed_af8c_a45e60e9ef7frow30_col1\" class=\"data row30 col1\" >None</td>\n",
       "            </tr>\n",
       "            <tr>\n",
       "                        <th id=\"T_78177d82_2241_11ed_af8c_a45e60e9ef7flevel0_row31\" class=\"row_heading level0 row31\" >31</th>\n",
       "                        <td id=\"T_78177d82_2241_11ed_af8c_a45e60e9ef7frow31_col0\" class=\"data row31 col0\" >PCA</td>\n",
       "                        <td id=\"T_78177d82_2241_11ed_af8c_a45e60e9ef7frow31_col1\" class=\"data row31 col1\" >False</td>\n",
       "            </tr>\n",
       "            <tr>\n",
       "                        <th id=\"T_78177d82_2241_11ed_af8c_a45e60e9ef7flevel0_row32\" class=\"row_heading level0 row32\" >32</th>\n",
       "                        <td id=\"T_78177d82_2241_11ed_af8c_a45e60e9ef7frow32_col0\" class=\"data row32 col0\" >PCA Method</td>\n",
       "                        <td id=\"T_78177d82_2241_11ed_af8c_a45e60e9ef7frow32_col1\" class=\"data row32 col1\" >None</td>\n",
       "            </tr>\n",
       "            <tr>\n",
       "                        <th id=\"T_78177d82_2241_11ed_af8c_a45e60e9ef7flevel0_row33\" class=\"row_heading level0 row33\" >33</th>\n",
       "                        <td id=\"T_78177d82_2241_11ed_af8c_a45e60e9ef7frow33_col0\" class=\"data row33 col0\" >PCA Components</td>\n",
       "                        <td id=\"T_78177d82_2241_11ed_af8c_a45e60e9ef7frow33_col1\" class=\"data row33 col1\" >None</td>\n",
       "            </tr>\n",
       "            <tr>\n",
       "                        <th id=\"T_78177d82_2241_11ed_af8c_a45e60e9ef7flevel0_row34\" class=\"row_heading level0 row34\" >34</th>\n",
       "                        <td id=\"T_78177d82_2241_11ed_af8c_a45e60e9ef7frow34_col0\" class=\"data row34 col0\" >Ignore Low Variance</td>\n",
       "                        <td id=\"T_78177d82_2241_11ed_af8c_a45e60e9ef7frow34_col1\" class=\"data row34 col1\" >False</td>\n",
       "            </tr>\n",
       "            <tr>\n",
       "                        <th id=\"T_78177d82_2241_11ed_af8c_a45e60e9ef7flevel0_row35\" class=\"row_heading level0 row35\" >35</th>\n",
       "                        <td id=\"T_78177d82_2241_11ed_af8c_a45e60e9ef7frow35_col0\" class=\"data row35 col0\" >Combine Rare Levels</td>\n",
       "                        <td id=\"T_78177d82_2241_11ed_af8c_a45e60e9ef7frow35_col1\" class=\"data row35 col1\" >False</td>\n",
       "            </tr>\n",
       "            <tr>\n",
       "                        <th id=\"T_78177d82_2241_11ed_af8c_a45e60e9ef7flevel0_row36\" class=\"row_heading level0 row36\" >36</th>\n",
       "                        <td id=\"T_78177d82_2241_11ed_af8c_a45e60e9ef7frow36_col0\" class=\"data row36 col0\" >Rare Level Threshold</td>\n",
       "                        <td id=\"T_78177d82_2241_11ed_af8c_a45e60e9ef7frow36_col1\" class=\"data row36 col1\" >None</td>\n",
       "            </tr>\n",
       "            <tr>\n",
       "                        <th id=\"T_78177d82_2241_11ed_af8c_a45e60e9ef7flevel0_row37\" class=\"row_heading level0 row37\" >37</th>\n",
       "                        <td id=\"T_78177d82_2241_11ed_af8c_a45e60e9ef7frow37_col0\" class=\"data row37 col0\" >Numeric Binning</td>\n",
       "                        <td id=\"T_78177d82_2241_11ed_af8c_a45e60e9ef7frow37_col1\" class=\"data row37 col1\" >False</td>\n",
       "            </tr>\n",
       "            <tr>\n",
       "                        <th id=\"T_78177d82_2241_11ed_af8c_a45e60e9ef7flevel0_row38\" class=\"row_heading level0 row38\" >38</th>\n",
       "                        <td id=\"T_78177d82_2241_11ed_af8c_a45e60e9ef7frow38_col0\" class=\"data row38 col0\" >Remove Outliers</td>\n",
       "                        <td id=\"T_78177d82_2241_11ed_af8c_a45e60e9ef7frow38_col1\" class=\"data row38 col1\" >False</td>\n",
       "            </tr>\n",
       "            <tr>\n",
       "                        <th id=\"T_78177d82_2241_11ed_af8c_a45e60e9ef7flevel0_row39\" class=\"row_heading level0 row39\" >39</th>\n",
       "                        <td id=\"T_78177d82_2241_11ed_af8c_a45e60e9ef7frow39_col0\" class=\"data row39 col0\" >Outliers Threshold</td>\n",
       "                        <td id=\"T_78177d82_2241_11ed_af8c_a45e60e9ef7frow39_col1\" class=\"data row39 col1\" >None</td>\n",
       "            </tr>\n",
       "            <tr>\n",
       "                        <th id=\"T_78177d82_2241_11ed_af8c_a45e60e9ef7flevel0_row40\" class=\"row_heading level0 row40\" >40</th>\n",
       "                        <td id=\"T_78177d82_2241_11ed_af8c_a45e60e9ef7frow40_col0\" class=\"data row40 col0\" >Remove Multicollinearity</td>\n",
       "                        <td id=\"T_78177d82_2241_11ed_af8c_a45e60e9ef7frow40_col1\" class=\"data row40 col1\" >False</td>\n",
       "            </tr>\n",
       "            <tr>\n",
       "                        <th id=\"T_78177d82_2241_11ed_af8c_a45e60e9ef7flevel0_row41\" class=\"row_heading level0 row41\" >41</th>\n",
       "                        <td id=\"T_78177d82_2241_11ed_af8c_a45e60e9ef7frow41_col0\" class=\"data row41 col0\" >Multicollinearity Threshold</td>\n",
       "                        <td id=\"T_78177d82_2241_11ed_af8c_a45e60e9ef7frow41_col1\" class=\"data row41 col1\" >None</td>\n",
       "            </tr>\n",
       "            <tr>\n",
       "                        <th id=\"T_78177d82_2241_11ed_af8c_a45e60e9ef7flevel0_row42\" class=\"row_heading level0 row42\" >42</th>\n",
       "                        <td id=\"T_78177d82_2241_11ed_af8c_a45e60e9ef7frow42_col0\" class=\"data row42 col0\" >Remove Perfect Collinearity</td>\n",
       "                        <td id=\"T_78177d82_2241_11ed_af8c_a45e60e9ef7frow42_col1\" class=\"data row42 col1\" >True</td>\n",
       "            </tr>\n",
       "            <tr>\n",
       "                        <th id=\"T_78177d82_2241_11ed_af8c_a45e60e9ef7flevel0_row43\" class=\"row_heading level0 row43\" >43</th>\n",
       "                        <td id=\"T_78177d82_2241_11ed_af8c_a45e60e9ef7frow43_col0\" class=\"data row43 col0\" >Clustering</td>\n",
       "                        <td id=\"T_78177d82_2241_11ed_af8c_a45e60e9ef7frow43_col1\" class=\"data row43 col1\" >False</td>\n",
       "            </tr>\n",
       "            <tr>\n",
       "                        <th id=\"T_78177d82_2241_11ed_af8c_a45e60e9ef7flevel0_row44\" class=\"row_heading level0 row44\" >44</th>\n",
       "                        <td id=\"T_78177d82_2241_11ed_af8c_a45e60e9ef7frow44_col0\" class=\"data row44 col0\" >Clustering Iteration</td>\n",
       "                        <td id=\"T_78177d82_2241_11ed_af8c_a45e60e9ef7frow44_col1\" class=\"data row44 col1\" >None</td>\n",
       "            </tr>\n",
       "            <tr>\n",
       "                        <th id=\"T_78177d82_2241_11ed_af8c_a45e60e9ef7flevel0_row45\" class=\"row_heading level0 row45\" >45</th>\n",
       "                        <td id=\"T_78177d82_2241_11ed_af8c_a45e60e9ef7frow45_col0\" class=\"data row45 col0\" >Polynomial Features</td>\n",
       "                        <td id=\"T_78177d82_2241_11ed_af8c_a45e60e9ef7frow45_col1\" class=\"data row45 col1\" >False</td>\n",
       "            </tr>\n",
       "            <tr>\n",
       "                        <th id=\"T_78177d82_2241_11ed_af8c_a45e60e9ef7flevel0_row46\" class=\"row_heading level0 row46\" >46</th>\n",
       "                        <td id=\"T_78177d82_2241_11ed_af8c_a45e60e9ef7frow46_col0\" class=\"data row46 col0\" >Polynomial Degree</td>\n",
       "                        <td id=\"T_78177d82_2241_11ed_af8c_a45e60e9ef7frow46_col1\" class=\"data row46 col1\" >None</td>\n",
       "            </tr>\n",
       "            <tr>\n",
       "                        <th id=\"T_78177d82_2241_11ed_af8c_a45e60e9ef7flevel0_row47\" class=\"row_heading level0 row47\" >47</th>\n",
       "                        <td id=\"T_78177d82_2241_11ed_af8c_a45e60e9ef7frow47_col0\" class=\"data row47 col0\" >Trignometry Features</td>\n",
       "                        <td id=\"T_78177d82_2241_11ed_af8c_a45e60e9ef7frow47_col1\" class=\"data row47 col1\" >False</td>\n",
       "            </tr>\n",
       "            <tr>\n",
       "                        <th id=\"T_78177d82_2241_11ed_af8c_a45e60e9ef7flevel0_row48\" class=\"row_heading level0 row48\" >48</th>\n",
       "                        <td id=\"T_78177d82_2241_11ed_af8c_a45e60e9ef7frow48_col0\" class=\"data row48 col0\" >Polynomial Threshold</td>\n",
       "                        <td id=\"T_78177d82_2241_11ed_af8c_a45e60e9ef7frow48_col1\" class=\"data row48 col1\" >None</td>\n",
       "            </tr>\n",
       "            <tr>\n",
       "                        <th id=\"T_78177d82_2241_11ed_af8c_a45e60e9ef7flevel0_row49\" class=\"row_heading level0 row49\" >49</th>\n",
       "                        <td id=\"T_78177d82_2241_11ed_af8c_a45e60e9ef7frow49_col0\" class=\"data row49 col0\" >Group Features</td>\n",
       "                        <td id=\"T_78177d82_2241_11ed_af8c_a45e60e9ef7frow49_col1\" class=\"data row49 col1\" >False</td>\n",
       "            </tr>\n",
       "            <tr>\n",
       "                        <th id=\"T_78177d82_2241_11ed_af8c_a45e60e9ef7flevel0_row50\" class=\"row_heading level0 row50\" >50</th>\n",
       "                        <td id=\"T_78177d82_2241_11ed_af8c_a45e60e9ef7frow50_col0\" class=\"data row50 col0\" >Feature Selection</td>\n",
       "                        <td id=\"T_78177d82_2241_11ed_af8c_a45e60e9ef7frow50_col1\" class=\"data row50 col1\" >False</td>\n",
       "            </tr>\n",
       "            <tr>\n",
       "                        <th id=\"T_78177d82_2241_11ed_af8c_a45e60e9ef7flevel0_row51\" class=\"row_heading level0 row51\" >51</th>\n",
       "                        <td id=\"T_78177d82_2241_11ed_af8c_a45e60e9ef7frow51_col0\" class=\"data row51 col0\" >Feature Selection Method</td>\n",
       "                        <td id=\"T_78177d82_2241_11ed_af8c_a45e60e9ef7frow51_col1\" class=\"data row51 col1\" >classic</td>\n",
       "            </tr>\n",
       "            <tr>\n",
       "                        <th id=\"T_78177d82_2241_11ed_af8c_a45e60e9ef7flevel0_row52\" class=\"row_heading level0 row52\" >52</th>\n",
       "                        <td id=\"T_78177d82_2241_11ed_af8c_a45e60e9ef7frow52_col0\" class=\"data row52 col0\" >Features Selection Threshold</td>\n",
       "                        <td id=\"T_78177d82_2241_11ed_af8c_a45e60e9ef7frow52_col1\" class=\"data row52 col1\" >None</td>\n",
       "            </tr>\n",
       "            <tr>\n",
       "                        <th id=\"T_78177d82_2241_11ed_af8c_a45e60e9ef7flevel0_row53\" class=\"row_heading level0 row53\" >53</th>\n",
       "                        <td id=\"T_78177d82_2241_11ed_af8c_a45e60e9ef7frow53_col0\" class=\"data row53 col0\" >Feature Interaction</td>\n",
       "                        <td id=\"T_78177d82_2241_11ed_af8c_a45e60e9ef7frow53_col1\" class=\"data row53 col1\" >False</td>\n",
       "            </tr>\n",
       "            <tr>\n",
       "                        <th id=\"T_78177d82_2241_11ed_af8c_a45e60e9ef7flevel0_row54\" class=\"row_heading level0 row54\" >54</th>\n",
       "                        <td id=\"T_78177d82_2241_11ed_af8c_a45e60e9ef7frow54_col0\" class=\"data row54 col0\" >Feature Ratio</td>\n",
       "                        <td id=\"T_78177d82_2241_11ed_af8c_a45e60e9ef7frow54_col1\" class=\"data row54 col1\" >False</td>\n",
       "            </tr>\n",
       "            <tr>\n",
       "                        <th id=\"T_78177d82_2241_11ed_af8c_a45e60e9ef7flevel0_row55\" class=\"row_heading level0 row55\" >55</th>\n",
       "                        <td id=\"T_78177d82_2241_11ed_af8c_a45e60e9ef7frow55_col0\" class=\"data row55 col0\" >Interaction Threshold</td>\n",
       "                        <td id=\"T_78177d82_2241_11ed_af8c_a45e60e9ef7frow55_col1\" class=\"data row55 col1\" >None</td>\n",
       "            </tr>\n",
       "            <tr>\n",
       "                        <th id=\"T_78177d82_2241_11ed_af8c_a45e60e9ef7flevel0_row56\" class=\"row_heading level0 row56\" >56</th>\n",
       "                        <td id=\"T_78177d82_2241_11ed_af8c_a45e60e9ef7frow56_col0\" class=\"data row56 col0\" >Transform Target</td>\n",
       "                        <td id=\"T_78177d82_2241_11ed_af8c_a45e60e9ef7frow56_col1\" class=\"data row56 col1\" >False</td>\n",
       "            </tr>\n",
       "            <tr>\n",
       "                        <th id=\"T_78177d82_2241_11ed_af8c_a45e60e9ef7flevel0_row57\" class=\"row_heading level0 row57\" >57</th>\n",
       "                        <td id=\"T_78177d82_2241_11ed_af8c_a45e60e9ef7frow57_col0\" class=\"data row57 col0\" >Transform Target Method</td>\n",
       "                        <td id=\"T_78177d82_2241_11ed_af8c_a45e60e9ef7frow57_col1\" class=\"data row57 col1\" >box-cox</td>\n",
       "            </tr>\n",
       "    </tbody></table>"
      ],
      "text/plain": [
       "<pandas.io.formats.style.Styler at 0x7fb1c1126a00>"
      ]
     },
     "metadata": {},
     "output_type": "display_data"
    }
   ],
   "source": [
    "#set up pycaret, set values to be numeric\n",
    "num_feats = ['Number of Parks', 'Number of Primary Schools',\n",
    "       'Primary School AVG Rating', 'Number of Secondary Schools',\n",
    "       'Secondary School AVG Rating', 'Number of Post 16 Schools',\n",
    "       'Post 16 School AVG Rating', 'Number of Healthcare Services',\n",
    "       'Number of Dentistries', 'Number of High Severity Crimes Previous Year',\n",
    "       'Number of Low Severity Crimes Previous Year','D', 'F', 'S', 'T']\n",
    "\n",
    "reg = setup(data = df, target = '1y_ret_ward', session_id=123, numeric_features=num_feats) "
   ]
  },
  {
   "cell_type": "code",
   "execution_count": 25,
   "metadata": {},
   "outputs": [
    {
     "data": {
      "text/html": [
       "<style  type=\"text/css\" >\n",
       "    #T_8435175a_2241_11ed_af8c_a45e60e9ef7f th {\n",
       "          text-align: left;\n",
       "    }#T_8435175a_2241_11ed_af8c_a45e60e9ef7frow0_col0,#T_8435175a_2241_11ed_af8c_a45e60e9ef7frow0_col5,#T_8435175a_2241_11ed_af8c_a45e60e9ef7frow0_col6,#T_8435175a_2241_11ed_af8c_a45e60e9ef7frow1_col0,#T_8435175a_2241_11ed_af8c_a45e60e9ef7frow1_col5,#T_8435175a_2241_11ed_af8c_a45e60e9ef7frow1_col6,#T_8435175a_2241_11ed_af8c_a45e60e9ef7frow2_col0,#T_8435175a_2241_11ed_af8c_a45e60e9ef7frow2_col1,#T_8435175a_2241_11ed_af8c_a45e60e9ef7frow2_col2,#T_8435175a_2241_11ed_af8c_a45e60e9ef7frow2_col3,#T_8435175a_2241_11ed_af8c_a45e60e9ef7frow2_col4,#T_8435175a_2241_11ed_af8c_a45e60e9ef7frow2_col5,#T_8435175a_2241_11ed_af8c_a45e60e9ef7frow2_col6,#T_8435175a_2241_11ed_af8c_a45e60e9ef7frow3_col0,#T_8435175a_2241_11ed_af8c_a45e60e9ef7frow3_col1,#T_8435175a_2241_11ed_af8c_a45e60e9ef7frow3_col2,#T_8435175a_2241_11ed_af8c_a45e60e9ef7frow3_col3,#T_8435175a_2241_11ed_af8c_a45e60e9ef7frow3_col4,#T_8435175a_2241_11ed_af8c_a45e60e9ef7frow3_col5,#T_8435175a_2241_11ed_af8c_a45e60e9ef7frow3_col6,#T_8435175a_2241_11ed_af8c_a45e60e9ef7frow4_col0,#T_8435175a_2241_11ed_af8c_a45e60e9ef7frow4_col1,#T_8435175a_2241_11ed_af8c_a45e60e9ef7frow4_col3,#T_8435175a_2241_11ed_af8c_a45e60e9ef7frow4_col4,#T_8435175a_2241_11ed_af8c_a45e60e9ef7frow4_col6,#T_8435175a_2241_11ed_af8c_a45e60e9ef7frow5_col0,#T_8435175a_2241_11ed_af8c_a45e60e9ef7frow5_col1,#T_8435175a_2241_11ed_af8c_a45e60e9ef7frow5_col2,#T_8435175a_2241_11ed_af8c_a45e60e9ef7frow5_col3,#T_8435175a_2241_11ed_af8c_a45e60e9ef7frow5_col4,#T_8435175a_2241_11ed_af8c_a45e60e9ef7frow5_col5,#T_8435175a_2241_11ed_af8c_a45e60e9ef7frow5_col6,#T_8435175a_2241_11ed_af8c_a45e60e9ef7frow6_col0,#T_8435175a_2241_11ed_af8c_a45e60e9ef7frow6_col1,#T_8435175a_2241_11ed_af8c_a45e60e9ef7frow6_col2,#T_8435175a_2241_11ed_af8c_a45e60e9ef7frow6_col3,#T_8435175a_2241_11ed_af8c_a45e60e9ef7frow6_col4,#T_8435175a_2241_11ed_af8c_a45e60e9ef7frow6_col5,#T_8435175a_2241_11ed_af8c_a45e60e9ef7frow6_col6,#T_8435175a_2241_11ed_af8c_a45e60e9ef7frow7_col0,#T_8435175a_2241_11ed_af8c_a45e60e9ef7frow7_col1,#T_8435175a_2241_11ed_af8c_a45e60e9ef7frow7_col2,#T_8435175a_2241_11ed_af8c_a45e60e9ef7frow7_col3,#T_8435175a_2241_11ed_af8c_a45e60e9ef7frow7_col4,#T_8435175a_2241_11ed_af8c_a45e60e9ef7frow7_col5,#T_8435175a_2241_11ed_af8c_a45e60e9ef7frow7_col6,#T_8435175a_2241_11ed_af8c_a45e60e9ef7frow8_col0,#T_8435175a_2241_11ed_af8c_a45e60e9ef7frow8_col1,#T_8435175a_2241_11ed_af8c_a45e60e9ef7frow8_col2,#T_8435175a_2241_11ed_af8c_a45e60e9ef7frow8_col3,#T_8435175a_2241_11ed_af8c_a45e60e9ef7frow8_col4,#T_8435175a_2241_11ed_af8c_a45e60e9ef7frow8_col5,#T_8435175a_2241_11ed_af8c_a45e60e9ef7frow8_col6,#T_8435175a_2241_11ed_af8c_a45e60e9ef7frow9_col0,#T_8435175a_2241_11ed_af8c_a45e60e9ef7frow9_col1,#T_8435175a_2241_11ed_af8c_a45e60e9ef7frow9_col2,#T_8435175a_2241_11ed_af8c_a45e60e9ef7frow9_col3,#T_8435175a_2241_11ed_af8c_a45e60e9ef7frow9_col4,#T_8435175a_2241_11ed_af8c_a45e60e9ef7frow9_col5,#T_8435175a_2241_11ed_af8c_a45e60e9ef7frow9_col6,#T_8435175a_2241_11ed_af8c_a45e60e9ef7frow10_col0,#T_8435175a_2241_11ed_af8c_a45e60e9ef7frow10_col1,#T_8435175a_2241_11ed_af8c_a45e60e9ef7frow10_col2,#T_8435175a_2241_11ed_af8c_a45e60e9ef7frow10_col3,#T_8435175a_2241_11ed_af8c_a45e60e9ef7frow10_col4,#T_8435175a_2241_11ed_af8c_a45e60e9ef7frow10_col5,#T_8435175a_2241_11ed_af8c_a45e60e9ef7frow10_col6,#T_8435175a_2241_11ed_af8c_a45e60e9ef7frow11_col0,#T_8435175a_2241_11ed_af8c_a45e60e9ef7frow11_col1,#T_8435175a_2241_11ed_af8c_a45e60e9ef7frow11_col2,#T_8435175a_2241_11ed_af8c_a45e60e9ef7frow11_col3,#T_8435175a_2241_11ed_af8c_a45e60e9ef7frow11_col4,#T_8435175a_2241_11ed_af8c_a45e60e9ef7frow11_col5,#T_8435175a_2241_11ed_af8c_a45e60e9ef7frow11_col6,#T_8435175a_2241_11ed_af8c_a45e60e9ef7frow12_col0,#T_8435175a_2241_11ed_af8c_a45e60e9ef7frow12_col1,#T_8435175a_2241_11ed_af8c_a45e60e9ef7frow12_col2,#T_8435175a_2241_11ed_af8c_a45e60e9ef7frow12_col3,#T_8435175a_2241_11ed_af8c_a45e60e9ef7frow12_col4,#T_8435175a_2241_11ed_af8c_a45e60e9ef7frow12_col5,#T_8435175a_2241_11ed_af8c_a45e60e9ef7frow12_col6,#T_8435175a_2241_11ed_af8c_a45e60e9ef7frow13_col0,#T_8435175a_2241_11ed_af8c_a45e60e9ef7frow13_col1,#T_8435175a_2241_11ed_af8c_a45e60e9ef7frow13_col2,#T_8435175a_2241_11ed_af8c_a45e60e9ef7frow13_col3,#T_8435175a_2241_11ed_af8c_a45e60e9ef7frow13_col4,#T_8435175a_2241_11ed_af8c_a45e60e9ef7frow13_col5,#T_8435175a_2241_11ed_af8c_a45e60e9ef7frow13_col6,#T_8435175a_2241_11ed_af8c_a45e60e9ef7frow14_col0,#T_8435175a_2241_11ed_af8c_a45e60e9ef7frow14_col1,#T_8435175a_2241_11ed_af8c_a45e60e9ef7frow14_col2,#T_8435175a_2241_11ed_af8c_a45e60e9ef7frow14_col3,#T_8435175a_2241_11ed_af8c_a45e60e9ef7frow14_col4,#T_8435175a_2241_11ed_af8c_a45e60e9ef7frow14_col5,#T_8435175a_2241_11ed_af8c_a45e60e9ef7frow15_col0,#T_8435175a_2241_11ed_af8c_a45e60e9ef7frow15_col1,#T_8435175a_2241_11ed_af8c_a45e60e9ef7frow15_col2,#T_8435175a_2241_11ed_af8c_a45e60e9ef7frow15_col3,#T_8435175a_2241_11ed_af8c_a45e60e9ef7frow15_col4,#T_8435175a_2241_11ed_af8c_a45e60e9ef7frow15_col5,#T_8435175a_2241_11ed_af8c_a45e60e9ef7frow15_col6,#T_8435175a_2241_11ed_af8c_a45e60e9ef7frow16_col0,#T_8435175a_2241_11ed_af8c_a45e60e9ef7frow16_col1,#T_8435175a_2241_11ed_af8c_a45e60e9ef7frow16_col2,#T_8435175a_2241_11ed_af8c_a45e60e9ef7frow16_col3,#T_8435175a_2241_11ed_af8c_a45e60e9ef7frow16_col4,#T_8435175a_2241_11ed_af8c_a45e60e9ef7frow16_col5,#T_8435175a_2241_11ed_af8c_a45e60e9ef7frow16_col6,#T_8435175a_2241_11ed_af8c_a45e60e9ef7frow17_col0,#T_8435175a_2241_11ed_af8c_a45e60e9ef7frow17_col1,#T_8435175a_2241_11ed_af8c_a45e60e9ef7frow17_col2,#T_8435175a_2241_11ed_af8c_a45e60e9ef7frow17_col3,#T_8435175a_2241_11ed_af8c_a45e60e9ef7frow17_col4,#T_8435175a_2241_11ed_af8c_a45e60e9ef7frow17_col5,#T_8435175a_2241_11ed_af8c_a45e60e9ef7frow17_col6,#T_8435175a_2241_11ed_af8c_a45e60e9ef7frow18_col0,#T_8435175a_2241_11ed_af8c_a45e60e9ef7frow18_col1,#T_8435175a_2241_11ed_af8c_a45e60e9ef7frow18_col2,#T_8435175a_2241_11ed_af8c_a45e60e9ef7frow18_col3,#T_8435175a_2241_11ed_af8c_a45e60e9ef7frow18_col4,#T_8435175a_2241_11ed_af8c_a45e60e9ef7frow18_col5,#T_8435175a_2241_11ed_af8c_a45e60e9ef7frow18_col6{\n",
       "            text-align:  left;\n",
       "            text-align:  left;\n",
       "        }#T_8435175a_2241_11ed_af8c_a45e60e9ef7frow0_col1,#T_8435175a_2241_11ed_af8c_a45e60e9ef7frow0_col2,#T_8435175a_2241_11ed_af8c_a45e60e9ef7frow0_col3,#T_8435175a_2241_11ed_af8c_a45e60e9ef7frow0_col4,#T_8435175a_2241_11ed_af8c_a45e60e9ef7frow1_col1,#T_8435175a_2241_11ed_af8c_a45e60e9ef7frow1_col2,#T_8435175a_2241_11ed_af8c_a45e60e9ef7frow1_col3,#T_8435175a_2241_11ed_af8c_a45e60e9ef7frow1_col4,#T_8435175a_2241_11ed_af8c_a45e60e9ef7frow4_col2,#T_8435175a_2241_11ed_af8c_a45e60e9ef7frow4_col5,#T_8435175a_2241_11ed_af8c_a45e60e9ef7frow14_col6{\n",
       "            text-align:  left;\n",
       "            text-align:  left;\n",
       "            background-color:  yellow;\n",
       "        }#T_8435175a_2241_11ed_af8c_a45e60e9ef7frow0_col7,#T_8435175a_2241_11ed_af8c_a45e60e9ef7frow1_col7,#T_8435175a_2241_11ed_af8c_a45e60e9ef7frow2_col7,#T_8435175a_2241_11ed_af8c_a45e60e9ef7frow4_col7,#T_8435175a_2241_11ed_af8c_a45e60e9ef7frow5_col7,#T_8435175a_2241_11ed_af8c_a45e60e9ef7frow6_col7,#T_8435175a_2241_11ed_af8c_a45e60e9ef7frow7_col7,#T_8435175a_2241_11ed_af8c_a45e60e9ef7frow8_col7,#T_8435175a_2241_11ed_af8c_a45e60e9ef7frow9_col7,#T_8435175a_2241_11ed_af8c_a45e60e9ef7frow10_col7,#T_8435175a_2241_11ed_af8c_a45e60e9ef7frow11_col7,#T_8435175a_2241_11ed_af8c_a45e60e9ef7frow12_col7,#T_8435175a_2241_11ed_af8c_a45e60e9ef7frow13_col7,#T_8435175a_2241_11ed_af8c_a45e60e9ef7frow14_col7,#T_8435175a_2241_11ed_af8c_a45e60e9ef7frow15_col7,#T_8435175a_2241_11ed_af8c_a45e60e9ef7frow16_col7,#T_8435175a_2241_11ed_af8c_a45e60e9ef7frow17_col7,#T_8435175a_2241_11ed_af8c_a45e60e9ef7frow18_col7{\n",
       "            text-align:  left;\n",
       "            text-align:  left;\n",
       "            background-color:  lightgrey;\n",
       "        }#T_8435175a_2241_11ed_af8c_a45e60e9ef7frow3_col7{\n",
       "            text-align:  left;\n",
       "            text-align:  left;\n",
       "            background-color:  yellow;\n",
       "            background-color:  lightgrey;\n",
       "        }</style><table id=\"T_8435175a_2241_11ed_af8c_a45e60e9ef7f\" ><thead>    <tr>        <th class=\"blank level0\" ></th>        <th class=\"col_heading level0 col0\" >Model</th>        <th class=\"col_heading level0 col1\" >MAE</th>        <th class=\"col_heading level0 col2\" >MSE</th>        <th class=\"col_heading level0 col3\" >RMSE</th>        <th class=\"col_heading level0 col4\" >R2</th>        <th class=\"col_heading level0 col5\" >RMSLE</th>        <th class=\"col_heading level0 col6\" >MAPE</th>        <th class=\"col_heading level0 col7\" >TT (Sec)</th>    </tr></thead><tbody>\n",
       "                <tr>\n",
       "                        <th id=\"T_8435175a_2241_11ed_af8c_a45e60e9ef7flevel0_row0\" class=\"row_heading level0 row0\" >llar</th>\n",
       "                        <td id=\"T_8435175a_2241_11ed_af8c_a45e60e9ef7frow0_col0\" class=\"data row0 col0\" >Lasso Least Angle Regression</td>\n",
       "                        <td id=\"T_8435175a_2241_11ed_af8c_a45e60e9ef7frow0_col1\" class=\"data row0 col1\" >0.1189</td>\n",
       "                        <td id=\"T_8435175a_2241_11ed_af8c_a45e60e9ef7frow0_col2\" class=\"data row0 col2\" >0.0409</td>\n",
       "                        <td id=\"T_8435175a_2241_11ed_af8c_a45e60e9ef7frow0_col3\" class=\"data row0 col3\" >0.1954</td>\n",
       "                        <td id=\"T_8435175a_2241_11ed_af8c_a45e60e9ef7frow0_col4\" class=\"data row0 col4\" >-0.0079</td>\n",
       "                        <td id=\"T_8435175a_2241_11ed_af8c_a45e60e9ef7frow0_col5\" class=\"data row0 col5\" >0.1243</td>\n",
       "                        <td id=\"T_8435175a_2241_11ed_af8c_a45e60e9ef7frow0_col6\" class=\"data row0 col6\" >16.5689</td>\n",
       "                        <td id=\"T_8435175a_2241_11ed_af8c_a45e60e9ef7frow0_col7\" class=\"data row0 col7\" >0.0170</td>\n",
       "            </tr>\n",
       "            <tr>\n",
       "                        <th id=\"T_8435175a_2241_11ed_af8c_a45e60e9ef7flevel0_row1\" class=\"row_heading level0 row1\" >dummy</th>\n",
       "                        <td id=\"T_8435175a_2241_11ed_af8c_a45e60e9ef7frow1_col0\" class=\"data row1 col0\" >Dummy Regressor</td>\n",
       "                        <td id=\"T_8435175a_2241_11ed_af8c_a45e60e9ef7frow1_col1\" class=\"data row1 col1\" >0.1189</td>\n",
       "                        <td id=\"T_8435175a_2241_11ed_af8c_a45e60e9ef7frow1_col2\" class=\"data row1 col2\" >0.0409</td>\n",
       "                        <td id=\"T_8435175a_2241_11ed_af8c_a45e60e9ef7frow1_col3\" class=\"data row1 col3\" >0.1954</td>\n",
       "                        <td id=\"T_8435175a_2241_11ed_af8c_a45e60e9ef7frow1_col4\" class=\"data row1 col4\" >-0.0079</td>\n",
       "                        <td id=\"T_8435175a_2241_11ed_af8c_a45e60e9ef7frow1_col5\" class=\"data row1 col5\" >0.1243</td>\n",
       "                        <td id=\"T_8435175a_2241_11ed_af8c_a45e60e9ef7frow1_col6\" class=\"data row1 col6\" >16.5689</td>\n",
       "                        <td id=\"T_8435175a_2241_11ed_af8c_a45e60e9ef7frow1_col7\" class=\"data row1 col7\" >0.0140</td>\n",
       "            </tr>\n",
       "            <tr>\n",
       "                        <th id=\"T_8435175a_2241_11ed_af8c_a45e60e9ef7flevel0_row2\" class=\"row_heading level0 row2\" >lasso</th>\n",
       "                        <td id=\"T_8435175a_2241_11ed_af8c_a45e60e9ef7frow2_col0\" class=\"data row2 col0\" >Lasso Regression</td>\n",
       "                        <td id=\"T_8435175a_2241_11ed_af8c_a45e60e9ef7frow2_col1\" class=\"data row2 col1\" >0.1190</td>\n",
       "                        <td id=\"T_8435175a_2241_11ed_af8c_a45e60e9ef7frow2_col2\" class=\"data row2 col2\" >0.0410</td>\n",
       "                        <td id=\"T_8435175a_2241_11ed_af8c_a45e60e9ef7frow2_col3\" class=\"data row2 col3\" >0.1955</td>\n",
       "                        <td id=\"T_8435175a_2241_11ed_af8c_a45e60e9ef7frow2_col4\" class=\"data row2 col4\" >-0.0093</td>\n",
       "                        <td id=\"T_8435175a_2241_11ed_af8c_a45e60e9ef7frow2_col5\" class=\"data row2 col5\" >0.1244</td>\n",
       "                        <td id=\"T_8435175a_2241_11ed_af8c_a45e60e9ef7frow2_col6\" class=\"data row2 col6\" >16.5678</td>\n",
       "                        <td id=\"T_8435175a_2241_11ed_af8c_a45e60e9ef7frow2_col7\" class=\"data row2 col7\" >0.0140</td>\n",
       "            </tr>\n",
       "            <tr>\n",
       "                        <th id=\"T_8435175a_2241_11ed_af8c_a45e60e9ef7flevel0_row3\" class=\"row_heading level0 row3\" >en</th>\n",
       "                        <td id=\"T_8435175a_2241_11ed_af8c_a45e60e9ef7frow3_col0\" class=\"data row3 col0\" >Elastic Net</td>\n",
       "                        <td id=\"T_8435175a_2241_11ed_af8c_a45e60e9ef7frow3_col1\" class=\"data row3 col1\" >0.1190</td>\n",
       "                        <td id=\"T_8435175a_2241_11ed_af8c_a45e60e9ef7frow3_col2\" class=\"data row3 col2\" >0.0410</td>\n",
       "                        <td id=\"T_8435175a_2241_11ed_af8c_a45e60e9ef7frow3_col3\" class=\"data row3 col3\" >0.1957</td>\n",
       "                        <td id=\"T_8435175a_2241_11ed_af8c_a45e60e9ef7frow3_col4\" class=\"data row3 col4\" >-0.0112</td>\n",
       "                        <td id=\"T_8435175a_2241_11ed_af8c_a45e60e9ef7frow3_col5\" class=\"data row3 col5\" >0.1245</td>\n",
       "                        <td id=\"T_8435175a_2241_11ed_af8c_a45e60e9ef7frow3_col6\" class=\"data row3 col6\" >16.5657</td>\n",
       "                        <td id=\"T_8435175a_2241_11ed_af8c_a45e60e9ef7frow3_col7\" class=\"data row3 col7\" >0.0120</td>\n",
       "            </tr>\n",
       "            <tr>\n",
       "                        <th id=\"T_8435175a_2241_11ed_af8c_a45e60e9ef7flevel0_row4\" class=\"row_heading level0 row4\" >omp</th>\n",
       "                        <td id=\"T_8435175a_2241_11ed_af8c_a45e60e9ef7frow4_col0\" class=\"data row4 col0\" >Orthogonal Matching Pursuit</td>\n",
       "                        <td id=\"T_8435175a_2241_11ed_af8c_a45e60e9ef7frow4_col1\" class=\"data row4 col1\" >0.1201</td>\n",
       "                        <td id=\"T_8435175a_2241_11ed_af8c_a45e60e9ef7frow4_col2\" class=\"data row4 col2\" >0.0409</td>\n",
       "                        <td id=\"T_8435175a_2241_11ed_af8c_a45e60e9ef7frow4_col3\" class=\"data row4 col3\" >0.1956</td>\n",
       "                        <td id=\"T_8435175a_2241_11ed_af8c_a45e60e9ef7frow4_col4\" class=\"data row4 col4\" >-0.0152</td>\n",
       "                        <td id=\"T_8435175a_2241_11ed_af8c_a45e60e9ef7frow4_col5\" class=\"data row4 col5\" >0.1217</td>\n",
       "                        <td id=\"T_8435175a_2241_11ed_af8c_a45e60e9ef7frow4_col6\" class=\"data row4 col6\" >10.8548</td>\n",
       "                        <td id=\"T_8435175a_2241_11ed_af8c_a45e60e9ef7frow4_col7\" class=\"data row4 col7\" >0.0150</td>\n",
       "            </tr>\n",
       "            <tr>\n",
       "                        <th id=\"T_8435175a_2241_11ed_af8c_a45e60e9ef7flevel0_row5\" class=\"row_heading level0 row5\" >br</th>\n",
       "                        <td id=\"T_8435175a_2241_11ed_af8c_a45e60e9ef7frow5_col0\" class=\"data row5 col0\" >Bayesian Ridge</td>\n",
       "                        <td id=\"T_8435175a_2241_11ed_af8c_a45e60e9ef7frow5_col1\" class=\"data row5 col1\" >0.1193</td>\n",
       "                        <td id=\"T_8435175a_2241_11ed_af8c_a45e60e9ef7frow5_col2\" class=\"data row5 col2\" >0.0412</td>\n",
       "                        <td id=\"T_8435175a_2241_11ed_af8c_a45e60e9ef7frow5_col3\" class=\"data row5 col3\" >0.1962</td>\n",
       "                        <td id=\"T_8435175a_2241_11ed_af8c_a45e60e9ef7frow5_col4\" class=\"data row5 col4\" >-0.0170</td>\n",
       "                        <td id=\"T_8435175a_2241_11ed_af8c_a45e60e9ef7frow5_col5\" class=\"data row5 col5\" >0.1243</td>\n",
       "                        <td id=\"T_8435175a_2241_11ed_af8c_a45e60e9ef7frow5_col6\" class=\"data row5 col6\" >15.2887</td>\n",
       "                        <td id=\"T_8435175a_2241_11ed_af8c_a45e60e9ef7frow5_col7\" class=\"data row5 col7\" >0.0170</td>\n",
       "            </tr>\n",
       "            <tr>\n",
       "                        <th id=\"T_8435175a_2241_11ed_af8c_a45e60e9ef7flevel0_row6\" class=\"row_heading level0 row6\" >huber</th>\n",
       "                        <td id=\"T_8435175a_2241_11ed_af8c_a45e60e9ef7frow6_col0\" class=\"data row6 col0\" >Huber Regressor</td>\n",
       "                        <td id=\"T_8435175a_2241_11ed_af8c_a45e60e9ef7frow6_col1\" class=\"data row6 col1\" >0.1202</td>\n",
       "                        <td id=\"T_8435175a_2241_11ed_af8c_a45e60e9ef7frow6_col2\" class=\"data row6 col2\" >0.0422</td>\n",
       "                        <td id=\"T_8435175a_2241_11ed_af8c_a45e60e9ef7frow6_col3\" class=\"data row6 col3\" >0.1988</td>\n",
       "                        <td id=\"T_8435175a_2241_11ed_af8c_a45e60e9ef7frow6_col4\" class=\"data row6 col4\" >-0.0485</td>\n",
       "                        <td id=\"T_8435175a_2241_11ed_af8c_a45e60e9ef7frow6_col5\" class=\"data row6 col5\" >0.1358</td>\n",
       "                        <td id=\"T_8435175a_2241_11ed_af8c_a45e60e9ef7frow6_col6\" class=\"data row6 col6\" >13.1720</td>\n",
       "                        <td id=\"T_8435175a_2241_11ed_af8c_a45e60e9ef7frow6_col7\" class=\"data row6 col7\" >0.0380</td>\n",
       "            </tr>\n",
       "            <tr>\n",
       "                        <th id=\"T_8435175a_2241_11ed_af8c_a45e60e9ef7flevel0_row7\" class=\"row_heading level0 row7\" >ridge</th>\n",
       "                        <td id=\"T_8435175a_2241_11ed_af8c_a45e60e9ef7frow7_col0\" class=\"data row7 col0\" >Ridge Regression</td>\n",
       "                        <td id=\"T_8435175a_2241_11ed_af8c_a45e60e9ef7frow7_col1\" class=\"data row7 col1\" >0.1239</td>\n",
       "                        <td id=\"T_8435175a_2241_11ed_af8c_a45e60e9ef7frow7_col2\" class=\"data row7 col2\" >0.0424</td>\n",
       "                        <td id=\"T_8435175a_2241_11ed_af8c_a45e60e9ef7frow7_col3\" class=\"data row7 col3\" >0.2001</td>\n",
       "                        <td id=\"T_8435175a_2241_11ed_af8c_a45e60e9ef7frow7_col4\" class=\"data row7 col4\" >-0.0723</td>\n",
       "                        <td id=\"T_8435175a_2241_11ed_af8c_a45e60e9ef7frow7_col5\" class=\"data row7 col5\" >0.1255</td>\n",
       "                        <td id=\"T_8435175a_2241_11ed_af8c_a45e60e9ef7frow7_col6\" class=\"data row7 col6\" >10.8808</td>\n",
       "                        <td id=\"T_8435175a_2241_11ed_af8c_a45e60e9ef7frow7_col7\" class=\"data row7 col7\" >0.0150</td>\n",
       "            </tr>\n",
       "            <tr>\n",
       "                        <th id=\"T_8435175a_2241_11ed_af8c_a45e60e9ef7flevel0_row8\" class=\"row_heading level0 row8\" >lr</th>\n",
       "                        <td id=\"T_8435175a_2241_11ed_af8c_a45e60e9ef7frow8_col0\" class=\"data row8 col0\" >Linear Regression</td>\n",
       "                        <td id=\"T_8435175a_2241_11ed_af8c_a45e60e9ef7frow8_col1\" class=\"data row8 col1\" >0.1240</td>\n",
       "                        <td id=\"T_8435175a_2241_11ed_af8c_a45e60e9ef7frow8_col2\" class=\"data row8 col2\" >0.0425</td>\n",
       "                        <td id=\"T_8435175a_2241_11ed_af8c_a45e60e9ef7frow8_col3\" class=\"data row8 col3\" >0.2002</td>\n",
       "                        <td id=\"T_8435175a_2241_11ed_af8c_a45e60e9ef7frow8_col4\" class=\"data row8 col4\" >-0.0737</td>\n",
       "                        <td id=\"T_8435175a_2241_11ed_af8c_a45e60e9ef7frow8_col5\" class=\"data row8 col5\" >0.1256</td>\n",
       "                        <td id=\"T_8435175a_2241_11ed_af8c_a45e60e9ef7frow8_col6\" class=\"data row8 col6\" >10.8840</td>\n",
       "                        <td id=\"T_8435175a_2241_11ed_af8c_a45e60e9ef7frow8_col7\" class=\"data row8 col7\" >0.4610</td>\n",
       "            </tr>\n",
       "            <tr>\n",
       "                        <th id=\"T_8435175a_2241_11ed_af8c_a45e60e9ef7flevel0_row9\" class=\"row_heading level0 row9\" >lar</th>\n",
       "                        <td id=\"T_8435175a_2241_11ed_af8c_a45e60e9ef7frow9_col0\" class=\"data row9 col0\" >Least Angle Regression</td>\n",
       "                        <td id=\"T_8435175a_2241_11ed_af8c_a45e60e9ef7frow9_col1\" class=\"data row9 col1\" >0.1252</td>\n",
       "                        <td id=\"T_8435175a_2241_11ed_af8c_a45e60e9ef7frow9_col2\" class=\"data row9 col2\" >0.0427</td>\n",
       "                        <td id=\"T_8435175a_2241_11ed_af8c_a45e60e9ef7frow9_col3\" class=\"data row9 col3\" >0.2010</td>\n",
       "                        <td id=\"T_8435175a_2241_11ed_af8c_a45e60e9ef7frow9_col4\" class=\"data row9 col4\" >-0.0854</td>\n",
       "                        <td id=\"T_8435175a_2241_11ed_af8c_a45e60e9ef7frow9_col5\" class=\"data row9 col5\" >0.1263</td>\n",
       "                        <td id=\"T_8435175a_2241_11ed_af8c_a45e60e9ef7frow9_col6\" class=\"data row9 col6\" >10.9799</td>\n",
       "                        <td id=\"T_8435175a_2241_11ed_af8c_a45e60e9ef7frow9_col7\" class=\"data row9 col7\" >0.0180</td>\n",
       "            </tr>\n",
       "            <tr>\n",
       "                        <th id=\"T_8435175a_2241_11ed_af8c_a45e60e9ef7flevel0_row10\" class=\"row_heading level0 row10\" >knn</th>\n",
       "                        <td id=\"T_8435175a_2241_11ed_af8c_a45e60e9ef7frow10_col0\" class=\"data row10 col0\" >K Neighbors Regressor</td>\n",
       "                        <td id=\"T_8435175a_2241_11ed_af8c_a45e60e9ef7frow10_col1\" class=\"data row10 col1\" >0.1324</td>\n",
       "                        <td id=\"T_8435175a_2241_11ed_af8c_a45e60e9ef7frow10_col2\" class=\"data row10 col2\" >0.0488</td>\n",
       "                        <td id=\"T_8435175a_2241_11ed_af8c_a45e60e9ef7frow10_col3\" class=\"data row10 col3\" >0.2148</td>\n",
       "                        <td id=\"T_8435175a_2241_11ed_af8c_a45e60e9ef7frow10_col4\" class=\"data row10 col4\" >-0.2510</td>\n",
       "                        <td id=\"T_8435175a_2241_11ed_af8c_a45e60e9ef7frow10_col5\" class=\"data row10 col5\" >0.1321</td>\n",
       "                        <td id=\"T_8435175a_2241_11ed_af8c_a45e60e9ef7frow10_col6\" class=\"data row10 col6\" >11.7074</td>\n",
       "                        <td id=\"T_8435175a_2241_11ed_af8c_a45e60e9ef7frow10_col7\" class=\"data row10 col7\" >0.0180</td>\n",
       "            </tr>\n",
       "            <tr>\n",
       "                        <th id=\"T_8435175a_2241_11ed_af8c_a45e60e9ef7flevel0_row11\" class=\"row_heading level0 row11\" >lightgbm</th>\n",
       "                        <td id=\"T_8435175a_2241_11ed_af8c_a45e60e9ef7frow11_col0\" class=\"data row11 col0\" >Light Gradient Boosting Machine</td>\n",
       "                        <td id=\"T_8435175a_2241_11ed_af8c_a45e60e9ef7frow11_col1\" class=\"data row11 col1\" >0.1382</td>\n",
       "                        <td id=\"T_8435175a_2241_11ed_af8c_a45e60e9ef7frow11_col2\" class=\"data row11 col2\" >0.0513</td>\n",
       "                        <td id=\"T_8435175a_2241_11ed_af8c_a45e60e9ef7frow11_col3\" class=\"data row11 col3\" >0.2212</td>\n",
       "                        <td id=\"T_8435175a_2241_11ed_af8c_a45e60e9ef7frow11_col4\" class=\"data row11 col4\" >-0.3339</td>\n",
       "                        <td id=\"T_8435175a_2241_11ed_af8c_a45e60e9ef7frow11_col5\" class=\"data row11 col5\" >0.1282</td>\n",
       "                        <td id=\"T_8435175a_2241_11ed_af8c_a45e60e9ef7frow11_col6\" class=\"data row11 col6\" >10.6161</td>\n",
       "                        <td id=\"T_8435175a_2241_11ed_af8c_a45e60e9ef7frow11_col7\" class=\"data row11 col7\" >0.3950</td>\n",
       "            </tr>\n",
       "            <tr>\n",
       "                        <th id=\"T_8435175a_2241_11ed_af8c_a45e60e9ef7flevel0_row12\" class=\"row_heading level0 row12\" >ada</th>\n",
       "                        <td id=\"T_8435175a_2241_11ed_af8c_a45e60e9ef7frow12_col0\" class=\"data row12 col0\" >AdaBoost Regressor</td>\n",
       "                        <td id=\"T_8435175a_2241_11ed_af8c_a45e60e9ef7frow12_col1\" class=\"data row12 col1\" >0.1391</td>\n",
       "                        <td id=\"T_8435175a_2241_11ed_af8c_a45e60e9ef7frow12_col2\" class=\"data row12 col2\" >0.0587</td>\n",
       "                        <td id=\"T_8435175a_2241_11ed_af8c_a45e60e9ef7frow12_col3\" class=\"data row12 col3\" >0.2365</td>\n",
       "                        <td id=\"T_8435175a_2241_11ed_af8c_a45e60e9ef7frow12_col4\" class=\"data row12 col4\" >-0.5944</td>\n",
       "                        <td id=\"T_8435175a_2241_11ed_af8c_a45e60e9ef7frow12_col5\" class=\"data row12 col5\" >0.1367</td>\n",
       "                        <td id=\"T_8435175a_2241_11ed_af8c_a45e60e9ef7frow12_col6\" class=\"data row12 col6\" >14.5544</td>\n",
       "                        <td id=\"T_8435175a_2241_11ed_af8c_a45e60e9ef7frow12_col7\" class=\"data row12 col7\" >0.0390</td>\n",
       "            </tr>\n",
       "            <tr>\n",
       "                        <th id=\"T_8435175a_2241_11ed_af8c_a45e60e9ef7flevel0_row13\" class=\"row_heading level0 row13\" >rf</th>\n",
       "                        <td id=\"T_8435175a_2241_11ed_af8c_a45e60e9ef7frow13_col0\" class=\"data row13 col0\" >Random Forest Regressor</td>\n",
       "                        <td id=\"T_8435175a_2241_11ed_af8c_a45e60e9ef7frow13_col1\" class=\"data row13 col1\" >0.1404</td>\n",
       "                        <td id=\"T_8435175a_2241_11ed_af8c_a45e60e9ef7frow13_col2\" class=\"data row13 col2\" >0.0578</td>\n",
       "                        <td id=\"T_8435175a_2241_11ed_af8c_a45e60e9ef7frow13_col3\" class=\"data row13 col3\" >0.2363</td>\n",
       "                        <td id=\"T_8435175a_2241_11ed_af8c_a45e60e9ef7frow13_col4\" class=\"data row13 col4\" >-0.6125</td>\n",
       "                        <td id=\"T_8435175a_2241_11ed_af8c_a45e60e9ef7frow13_col5\" class=\"data row13 col5\" >0.1317</td>\n",
       "                        <td id=\"T_8435175a_2241_11ed_af8c_a45e60e9ef7frow13_col6\" class=\"data row13 col6\" >11.8517</td>\n",
       "                        <td id=\"T_8435175a_2241_11ed_af8c_a45e60e9ef7frow13_col7\" class=\"data row13 col7\" >0.1750</td>\n",
       "            </tr>\n",
       "            <tr>\n",
       "                        <th id=\"T_8435175a_2241_11ed_af8c_a45e60e9ef7flevel0_row14\" class=\"row_heading level0 row14\" >gbr</th>\n",
       "                        <td id=\"T_8435175a_2241_11ed_af8c_a45e60e9ef7frow14_col0\" class=\"data row14 col0\" >Gradient Boosting Regressor</td>\n",
       "                        <td id=\"T_8435175a_2241_11ed_af8c_a45e60e9ef7frow14_col1\" class=\"data row14 col1\" >0.1358</td>\n",
       "                        <td id=\"T_8435175a_2241_11ed_af8c_a45e60e9ef7frow14_col2\" class=\"data row14 col2\" >0.0566</td>\n",
       "                        <td id=\"T_8435175a_2241_11ed_af8c_a45e60e9ef7frow14_col3\" class=\"data row14 col3\" >0.2337</td>\n",
       "                        <td id=\"T_8435175a_2241_11ed_af8c_a45e60e9ef7frow14_col4\" class=\"data row14 col4\" >-0.6433</td>\n",
       "                        <td id=\"T_8435175a_2241_11ed_af8c_a45e60e9ef7frow14_col5\" class=\"data row14 col5\" >0.1377</td>\n",
       "                        <td id=\"T_8435175a_2241_11ed_af8c_a45e60e9ef7frow14_col6\" class=\"data row14 col6\" >3.4465</td>\n",
       "                        <td id=\"T_8435175a_2241_11ed_af8c_a45e60e9ef7frow14_col7\" class=\"data row14 col7\" >0.0520</td>\n",
       "            </tr>\n",
       "            <tr>\n",
       "                        <th id=\"T_8435175a_2241_11ed_af8c_a45e60e9ef7flevel0_row15\" class=\"row_heading level0 row15\" >par</th>\n",
       "                        <td id=\"T_8435175a_2241_11ed_af8c_a45e60e9ef7frow15_col0\" class=\"data row15 col0\" >Passive Aggressive Regressor</td>\n",
       "                        <td id=\"T_8435175a_2241_11ed_af8c_a45e60e9ef7frow15_col1\" class=\"data row15 col1\" >0.1676</td>\n",
       "                        <td id=\"T_8435175a_2241_11ed_af8c_a45e60e9ef7frow15_col2\" class=\"data row15 col2\" >0.0644</td>\n",
       "                        <td id=\"T_8435175a_2241_11ed_af8c_a45e60e9ef7frow15_col3\" class=\"data row15 col3\" >0.2440</td>\n",
       "                        <td id=\"T_8435175a_2241_11ed_af8c_a45e60e9ef7frow15_col4\" class=\"data row15 col4\" >-0.9039</td>\n",
       "                        <td id=\"T_8435175a_2241_11ed_af8c_a45e60e9ef7frow15_col5\" class=\"data row15 col5\" >0.1553</td>\n",
       "                        <td id=\"T_8435175a_2241_11ed_af8c_a45e60e9ef7frow15_col6\" class=\"data row15 col6\" >113.8688</td>\n",
       "                        <td id=\"T_8435175a_2241_11ed_af8c_a45e60e9ef7frow15_col7\" class=\"data row15 col7\" >0.0140</td>\n",
       "            </tr>\n",
       "            <tr>\n",
       "                        <th id=\"T_8435175a_2241_11ed_af8c_a45e60e9ef7flevel0_row16\" class=\"row_heading level0 row16\" >et</th>\n",
       "                        <td id=\"T_8435175a_2241_11ed_af8c_a45e60e9ef7frow16_col0\" class=\"data row16 col0\" >Extra Trees Regressor</td>\n",
       "                        <td id=\"T_8435175a_2241_11ed_af8c_a45e60e9ef7frow16_col1\" class=\"data row16 col1\" >0.1609</td>\n",
       "                        <td id=\"T_8435175a_2241_11ed_af8c_a45e60e9ef7frow16_col2\" class=\"data row16 col2\" >0.0844</td>\n",
       "                        <td id=\"T_8435175a_2241_11ed_af8c_a45e60e9ef7frow16_col3\" class=\"data row16 col3\" >0.2810</td>\n",
       "                        <td id=\"T_8435175a_2241_11ed_af8c_a45e60e9ef7frow16_col4\" class=\"data row16 col4\" >-1.3855</td>\n",
       "                        <td id=\"T_8435175a_2241_11ed_af8c_a45e60e9ef7frow16_col5\" class=\"data row16 col5\" >0.1408</td>\n",
       "                        <td id=\"T_8435175a_2241_11ed_af8c_a45e60e9ef7frow16_col6\" class=\"data row16 col6\" >24.3353</td>\n",
       "                        <td id=\"T_8435175a_2241_11ed_af8c_a45e60e9ef7frow16_col7\" class=\"data row16 col7\" >0.1630</td>\n",
       "            </tr>\n",
       "            <tr>\n",
       "                        <th id=\"T_8435175a_2241_11ed_af8c_a45e60e9ef7flevel0_row17\" class=\"row_heading level0 row17\" >xgboost</th>\n",
       "                        <td id=\"T_8435175a_2241_11ed_af8c_a45e60e9ef7frow17_col0\" class=\"data row17 col0\" >Extreme Gradient Boosting</td>\n",
       "                        <td id=\"T_8435175a_2241_11ed_af8c_a45e60e9ef7frow17_col1\" class=\"data row17 col1\" >0.1704</td>\n",
       "                        <td id=\"T_8435175a_2241_11ed_af8c_a45e60e9ef7frow17_col2\" class=\"data row17 col2\" >0.0798</td>\n",
       "                        <td id=\"T_8435175a_2241_11ed_af8c_a45e60e9ef7frow17_col3\" class=\"data row17 col3\" >0.2789</td>\n",
       "                        <td id=\"T_8435175a_2241_11ed_af8c_a45e60e9ef7frow17_col4\" class=\"data row17 col4\" >-1.4045</td>\n",
       "                        <td id=\"T_8435175a_2241_11ed_af8c_a45e60e9ef7frow17_col5\" class=\"data row17 col5\" >0.1448</td>\n",
       "                        <td id=\"T_8435175a_2241_11ed_af8c_a45e60e9ef7frow17_col6\" class=\"data row17 col6\" >19.5701</td>\n",
       "                        <td id=\"T_8435175a_2241_11ed_af8c_a45e60e9ef7frow17_col7\" class=\"data row17 col7\" >0.0700</td>\n",
       "            </tr>\n",
       "            <tr>\n",
       "                        <th id=\"T_8435175a_2241_11ed_af8c_a45e60e9ef7flevel0_row18\" class=\"row_heading level0 row18\" >dt</th>\n",
       "                        <td id=\"T_8435175a_2241_11ed_af8c_a45e60e9ef7frow18_col0\" class=\"data row18 col0\" >Decision Tree Regressor</td>\n",
       "                        <td id=\"T_8435175a_2241_11ed_af8c_a45e60e9ef7frow18_col1\" class=\"data row18 col1\" >0.1871</td>\n",
       "                        <td id=\"T_8435175a_2241_11ed_af8c_a45e60e9ef7frow18_col2\" class=\"data row18 col2\" >0.0858</td>\n",
       "                        <td id=\"T_8435175a_2241_11ed_af8c_a45e60e9ef7frow18_col3\" class=\"data row18 col3\" >0.2895</td>\n",
       "                        <td id=\"T_8435175a_2241_11ed_af8c_a45e60e9ef7frow18_col4\" class=\"data row18 col4\" >-1.8036</td>\n",
       "                        <td id=\"T_8435175a_2241_11ed_af8c_a45e60e9ef7frow18_col5\" class=\"data row18 col5\" >0.1531</td>\n",
       "                        <td id=\"T_8435175a_2241_11ed_af8c_a45e60e9ef7frow18_col6\" class=\"data row18 col6\" >14.0147</td>\n",
       "                        <td id=\"T_8435175a_2241_11ed_af8c_a45e60e9ef7frow18_col7\" class=\"data row18 col7\" >0.0170</td>\n",
       "            </tr>\n",
       "    </tbody></table>"
      ],
      "text/plain": [
       "<pandas.io.formats.style.Styler at 0x7fb1c6f64100>"
      ]
     },
     "metadata": {},
     "output_type": "display_data"
    },
    {
     "data": {
      "text/plain": [
       "LassoLars(alpha=1.0, copy_X=True, eps=2.220446049250313e-16, fit_intercept=True,\n",
       "          fit_path=True, jitter=None, max_iter=500, normalize=True,\n",
       "          positive=False, precompute='auto', random_state=123, verbose=False)"
      ]
     },
     "execution_count": 25,
     "metadata": {},
     "output_type": "execute_result"
    }
   ],
   "source": [
    "#compare models using pycaret\n",
    "compare_models()"
   ]
  },
  {
   "cell_type": "code",
   "execution_count": 26,
   "metadata": {},
   "outputs": [
    {
     "data": {
      "text/html": [
       "<style  type=\"text/css\" >\n",
       "#T_8548fd6e_2241_11ed_af8c_a45e60e9ef7frow10_col0,#T_8548fd6e_2241_11ed_af8c_a45e60e9ef7frow10_col1,#T_8548fd6e_2241_11ed_af8c_a45e60e9ef7frow10_col2,#T_8548fd6e_2241_11ed_af8c_a45e60e9ef7frow10_col3,#T_8548fd6e_2241_11ed_af8c_a45e60e9ef7frow10_col4,#T_8548fd6e_2241_11ed_af8c_a45e60e9ef7frow10_col5{\n",
       "            background:  yellow;\n",
       "        }</style><table id=\"T_8548fd6e_2241_11ed_af8c_a45e60e9ef7f\" ><thead>    <tr>        <th class=\"blank level0\" ></th>        <th class=\"col_heading level0 col0\" >MAE</th>        <th class=\"col_heading level0 col1\" >MSE</th>        <th class=\"col_heading level0 col2\" >RMSE</th>        <th class=\"col_heading level0 col3\" >R2</th>        <th class=\"col_heading level0 col4\" >RMSLE</th>        <th class=\"col_heading level0 col5\" >MAPE</th>    </tr>    <tr>        <th class=\"index_name level0\" >Fold</th>        <th class=\"blank\" ></th>        <th class=\"blank\" ></th>        <th class=\"blank\" ></th>        <th class=\"blank\" ></th>        <th class=\"blank\" ></th>        <th class=\"blank\" ></th>    </tr></thead><tbody>\n",
       "                <tr>\n",
       "                        <th id=\"T_8548fd6e_2241_11ed_af8c_a45e60e9ef7flevel0_row0\" class=\"row_heading level0 row0\" >0</th>\n",
       "                        <td id=\"T_8548fd6e_2241_11ed_af8c_a45e60e9ef7frow0_col0\" class=\"data row0 col0\" >0.1128</td>\n",
       "                        <td id=\"T_8548fd6e_2241_11ed_af8c_a45e60e9ef7frow0_col1\" class=\"data row0 col1\" >0.0255</td>\n",
       "                        <td id=\"T_8548fd6e_2241_11ed_af8c_a45e60e9ef7frow0_col2\" class=\"data row0 col2\" >0.1597</td>\n",
       "                        <td id=\"T_8548fd6e_2241_11ed_af8c_a45e60e9ef7frow0_col3\" class=\"data row0 col3\" >-0.0408</td>\n",
       "                        <td id=\"T_8548fd6e_2241_11ed_af8c_a45e60e9ef7frow0_col4\" class=\"data row0 col4\" >0.1008</td>\n",
       "                        <td id=\"T_8548fd6e_2241_11ed_af8c_a45e60e9ef7frow0_col5\" class=\"data row0 col5\" >149.3967</td>\n",
       "            </tr>\n",
       "            <tr>\n",
       "                        <th id=\"T_8548fd6e_2241_11ed_af8c_a45e60e9ef7flevel0_row1\" class=\"row_heading level0 row1\" >1</th>\n",
       "                        <td id=\"T_8548fd6e_2241_11ed_af8c_a45e60e9ef7frow1_col0\" class=\"data row1 col0\" >0.0965</td>\n",
       "                        <td id=\"T_8548fd6e_2241_11ed_af8c_a45e60e9ef7frow1_col1\" class=\"data row1 col1\" >0.0153</td>\n",
       "                        <td id=\"T_8548fd6e_2241_11ed_af8c_a45e60e9ef7frow1_col2\" class=\"data row1 col2\" >0.1238</td>\n",
       "                        <td id=\"T_8548fd6e_2241_11ed_af8c_a45e60e9ef7frow1_col3\" class=\"data row1 col3\" >-0.0012</td>\n",
       "                        <td id=\"T_8548fd6e_2241_11ed_af8c_a45e60e9ef7frow1_col4\" class=\"data row1 col4\" >0.0850</td>\n",
       "                        <td id=\"T_8548fd6e_2241_11ed_af8c_a45e60e9ef7frow1_col5\" class=\"data row1 col5\" >1.5043</td>\n",
       "            </tr>\n",
       "            <tr>\n",
       "                        <th id=\"T_8548fd6e_2241_11ed_af8c_a45e60e9ef7flevel0_row2\" class=\"row_heading level0 row2\" >2</th>\n",
       "                        <td id=\"T_8548fd6e_2241_11ed_af8c_a45e60e9ef7frow2_col0\" class=\"data row2 col0\" >0.1327</td>\n",
       "                        <td id=\"T_8548fd6e_2241_11ed_af8c_a45e60e9ef7frow2_col1\" class=\"data row2 col1\" >0.0778</td>\n",
       "                        <td id=\"T_8548fd6e_2241_11ed_af8c_a45e60e9ef7frow2_col2\" class=\"data row2 col2\" >0.2790</td>\n",
       "                        <td id=\"T_8548fd6e_2241_11ed_af8c_a45e60e9ef7frow2_col3\" class=\"data row2 col3\" >-0.0090</td>\n",
       "                        <td id=\"T_8548fd6e_2241_11ed_af8c_a45e60e9ef7frow2_col4\" class=\"data row2 col4\" >0.1621</td>\n",
       "                        <td id=\"T_8548fd6e_2241_11ed_af8c_a45e60e9ef7frow2_col5\" class=\"data row2 col5\" >2.2151</td>\n",
       "            </tr>\n",
       "            <tr>\n",
       "                        <th id=\"T_8548fd6e_2241_11ed_af8c_a45e60e9ef7flevel0_row3\" class=\"row_heading level0 row3\" >3</th>\n",
       "                        <td id=\"T_8548fd6e_2241_11ed_af8c_a45e60e9ef7frow3_col0\" class=\"data row3 col0\" >0.1221</td>\n",
       "                        <td id=\"T_8548fd6e_2241_11ed_af8c_a45e60e9ef7frow3_col1\" class=\"data row3 col1\" >0.0229</td>\n",
       "                        <td id=\"T_8548fd6e_2241_11ed_af8c_a45e60e9ef7frow3_col2\" class=\"data row3 col2\" >0.1513</td>\n",
       "                        <td id=\"T_8548fd6e_2241_11ed_af8c_a45e60e9ef7frow3_col3\" class=\"data row3 col3\" >-0.0012</td>\n",
       "                        <td id=\"T_8548fd6e_2241_11ed_af8c_a45e60e9ef7frow3_col4\" class=\"data row3 col4\" >0.1046</td>\n",
       "                        <td id=\"T_8548fd6e_2241_11ed_af8c_a45e60e9ef7frow3_col5\" class=\"data row3 col5\" >2.0029</td>\n",
       "            </tr>\n",
       "            <tr>\n",
       "                        <th id=\"T_8548fd6e_2241_11ed_af8c_a45e60e9ef7flevel0_row4\" class=\"row_heading level0 row4\" >4</th>\n",
       "                        <td id=\"T_8548fd6e_2241_11ed_af8c_a45e60e9ef7frow4_col0\" class=\"data row4 col0\" >0.1210</td>\n",
       "                        <td id=\"T_8548fd6e_2241_11ed_af8c_a45e60e9ef7frow4_col1\" class=\"data row4 col1\" >0.0251</td>\n",
       "                        <td id=\"T_8548fd6e_2241_11ed_af8c_a45e60e9ef7frow4_col2\" class=\"data row4 col2\" >0.1584</td>\n",
       "                        <td id=\"T_8548fd6e_2241_11ed_af8c_a45e60e9ef7frow4_col3\" class=\"data row4 col3\" >-0.0119</td>\n",
       "                        <td id=\"T_8548fd6e_2241_11ed_af8c_a45e60e9ef7frow4_col4\" class=\"data row4 col4\" >0.1050</td>\n",
       "                        <td id=\"T_8548fd6e_2241_11ed_af8c_a45e60e9ef7frow4_col5\" class=\"data row4 col5\" >1.9337</td>\n",
       "            </tr>\n",
       "            <tr>\n",
       "                        <th id=\"T_8548fd6e_2241_11ed_af8c_a45e60e9ef7flevel0_row5\" class=\"row_heading level0 row5\" >5</th>\n",
       "                        <td id=\"T_8548fd6e_2241_11ed_af8c_a45e60e9ef7frow5_col0\" class=\"data row5 col0\" >0.1159</td>\n",
       "                        <td id=\"T_8548fd6e_2241_11ed_af8c_a45e60e9ef7frow5_col1\" class=\"data row5 col1\" >0.0283</td>\n",
       "                        <td id=\"T_8548fd6e_2241_11ed_af8c_a45e60e9ef7frow5_col2\" class=\"data row5 col2\" >0.1683</td>\n",
       "                        <td id=\"T_8548fd6e_2241_11ed_af8c_a45e60e9ef7frow5_col3\" class=\"data row5 col3\" >-0.0050</td>\n",
       "                        <td id=\"T_8548fd6e_2241_11ed_af8c_a45e60e9ef7frow5_col4\" class=\"data row5 col4\" >0.1195</td>\n",
       "                        <td id=\"T_8548fd6e_2241_11ed_af8c_a45e60e9ef7frow5_col5\" class=\"data row5 col5\" >1.6588</td>\n",
       "            </tr>\n",
       "            <tr>\n",
       "                        <th id=\"T_8548fd6e_2241_11ed_af8c_a45e60e9ef7flevel0_row6\" class=\"row_heading level0 row6\" >6</th>\n",
       "                        <td id=\"T_8548fd6e_2241_11ed_af8c_a45e60e9ef7frow6_col0\" class=\"data row6 col0\" >0.1336</td>\n",
       "                        <td id=\"T_8548fd6e_2241_11ed_af8c_a45e60e9ef7frow6_col1\" class=\"data row6 col1\" >0.0712</td>\n",
       "                        <td id=\"T_8548fd6e_2241_11ed_af8c_a45e60e9ef7frow6_col2\" class=\"data row6 col2\" >0.2668</td>\n",
       "                        <td id=\"T_8548fd6e_2241_11ed_af8c_a45e60e9ef7frow6_col3\" class=\"data row6 col3\" >-0.0010</td>\n",
       "                        <td id=\"T_8548fd6e_2241_11ed_af8c_a45e60e9ef7frow6_col4\" class=\"data row6 col4\" >0.1567</td>\n",
       "                        <td id=\"T_8548fd6e_2241_11ed_af8c_a45e60e9ef7frow6_col5\" class=\"data row6 col5\" >2.5699</td>\n",
       "            </tr>\n",
       "            <tr>\n",
       "                        <th id=\"T_8548fd6e_2241_11ed_af8c_a45e60e9ef7flevel0_row7\" class=\"row_heading level0 row7\" >7</th>\n",
       "                        <td id=\"T_8548fd6e_2241_11ed_af8c_a45e60e9ef7frow7_col0\" class=\"data row7 col0\" >0.1259</td>\n",
       "                        <td id=\"T_8548fd6e_2241_11ed_af8c_a45e60e9ef7frow7_col1\" class=\"data row7 col1\" >0.0680</td>\n",
       "                        <td id=\"T_8548fd6e_2241_11ed_af8c_a45e60e9ef7frow7_col2\" class=\"data row7 col2\" >0.2607</td>\n",
       "                        <td id=\"T_8548fd6e_2241_11ed_af8c_a45e60e9ef7frow7_col3\" class=\"data row7 col3\" >-0.0007</td>\n",
       "                        <td id=\"T_8548fd6e_2241_11ed_af8c_a45e60e9ef7frow7_col4\" class=\"data row7 col4\" >0.1521</td>\n",
       "                        <td id=\"T_8548fd6e_2241_11ed_af8c_a45e60e9ef7frow7_col5\" class=\"data row7 col5\" >1.5436</td>\n",
       "            </tr>\n",
       "            <tr>\n",
       "                        <th id=\"T_8548fd6e_2241_11ed_af8c_a45e60e9ef7flevel0_row8\" class=\"row_heading level0 row8\" >8</th>\n",
       "                        <td id=\"T_8548fd6e_2241_11ed_af8c_a45e60e9ef7frow8_col0\" class=\"data row8 col0\" >0.1212</td>\n",
       "                        <td id=\"T_8548fd6e_2241_11ed_af8c_a45e60e9ef7frow8_col1\" class=\"data row8 col1\" >0.0450</td>\n",
       "                        <td id=\"T_8548fd6e_2241_11ed_af8c_a45e60e9ef7frow8_col2\" class=\"data row8 col2\" >0.2122</td>\n",
       "                        <td id=\"T_8548fd6e_2241_11ed_af8c_a45e60e9ef7frow8_col3\" class=\"data row8 col3\" >-0.0071</td>\n",
       "                        <td id=\"T_8548fd6e_2241_11ed_af8c_a45e60e9ef7frow8_col4\" class=\"data row8 col4\" >0.1358</td>\n",
       "                        <td id=\"T_8548fd6e_2241_11ed_af8c_a45e60e9ef7frow8_col5\" class=\"data row8 col5\" >1.4470</td>\n",
       "            </tr>\n",
       "            <tr>\n",
       "                        <th id=\"T_8548fd6e_2241_11ed_af8c_a45e60e9ef7flevel0_row9\" class=\"row_heading level0 row9\" >9</th>\n",
       "                        <td id=\"T_8548fd6e_2241_11ed_af8c_a45e60e9ef7frow9_col0\" class=\"data row9 col0\" >0.1073</td>\n",
       "                        <td id=\"T_8548fd6e_2241_11ed_af8c_a45e60e9ef7frow9_col1\" class=\"data row9 col1\" >0.0304</td>\n",
       "                        <td id=\"T_8548fd6e_2241_11ed_af8c_a45e60e9ef7frow9_col2\" class=\"data row9 col2\" >0.1742</td>\n",
       "                        <td id=\"T_8548fd6e_2241_11ed_af8c_a45e60e9ef7frow9_col3\" class=\"data row9 col3\" >-0.0007</td>\n",
       "                        <td id=\"T_8548fd6e_2241_11ed_af8c_a45e60e9ef7frow9_col4\" class=\"data row9 col4\" >0.1217</td>\n",
       "                        <td id=\"T_8548fd6e_2241_11ed_af8c_a45e60e9ef7frow9_col5\" class=\"data row9 col5\" >1.4175</td>\n",
       "            </tr>\n",
       "            <tr>\n",
       "                        <th id=\"T_8548fd6e_2241_11ed_af8c_a45e60e9ef7flevel0_row10\" class=\"row_heading level0 row10\" >Mean</th>\n",
       "                        <td id=\"T_8548fd6e_2241_11ed_af8c_a45e60e9ef7frow10_col0\" class=\"data row10 col0\" >0.1189</td>\n",
       "                        <td id=\"T_8548fd6e_2241_11ed_af8c_a45e60e9ef7frow10_col1\" class=\"data row10 col1\" >0.0409</td>\n",
       "                        <td id=\"T_8548fd6e_2241_11ed_af8c_a45e60e9ef7frow10_col2\" class=\"data row10 col2\" >0.1954</td>\n",
       "                        <td id=\"T_8548fd6e_2241_11ed_af8c_a45e60e9ef7frow10_col3\" class=\"data row10 col3\" >-0.0079</td>\n",
       "                        <td id=\"T_8548fd6e_2241_11ed_af8c_a45e60e9ef7frow10_col4\" class=\"data row10 col4\" >0.1243</td>\n",
       "                        <td id=\"T_8548fd6e_2241_11ed_af8c_a45e60e9ef7frow10_col5\" class=\"data row10 col5\" >16.5689</td>\n",
       "            </tr>\n",
       "            <tr>\n",
       "                        <th id=\"T_8548fd6e_2241_11ed_af8c_a45e60e9ef7flevel0_row11\" class=\"row_heading level0 row11\" >Std</th>\n",
       "                        <td id=\"T_8548fd6e_2241_11ed_af8c_a45e60e9ef7frow11_col0\" class=\"data row11 col0\" >0.0107</td>\n",
       "                        <td id=\"T_8548fd6e_2241_11ed_af8c_a45e60e9ef7frow11_col1\" class=\"data row11 col1\" >0.0218</td>\n",
       "                        <td id=\"T_8548fd6e_2241_11ed_af8c_a45e60e9ef7frow11_col2\" class=\"data row11 col2\" >0.0525</td>\n",
       "                        <td id=\"T_8548fd6e_2241_11ed_af8c_a45e60e9ef7frow11_col3\" class=\"data row11 col3\" >0.0116</td>\n",
       "                        <td id=\"T_8548fd6e_2241_11ed_af8c_a45e60e9ef7frow11_col4\" class=\"data row11 col4\" >0.0250</td>\n",
       "                        <td id=\"T_8548fd6e_2241_11ed_af8c_a45e60e9ef7frow11_col5\" class=\"data row11 col5\" >44.2773</td>\n",
       "            </tr>\n",
       "    </tbody></table>"
      ],
      "text/plain": [
       "<pandas.io.formats.style.Styler at 0x7fb1c6ed3f10>"
      ]
     },
     "metadata": {},
     "output_type": "display_data"
    }
   ],
   "source": [
    "#create and tune lasso model using pycaret\n",
    "mod = create_model('llar')\n",
    "tuned_mod = tune_model(mod)"
   ]
  },
  {
   "cell_type": "code",
   "execution_count": 27,
   "metadata": {},
   "outputs": [
    {
     "data": {
      "image/png": "[encoded data removed]",
      "text/plain": [
       "<Figure size 576x396 with 1 Axes>"
      ]
     },
     "metadata": {},
     "output_type": "display_data"
    }
   ],
   "source": [
    "#plot model error using pycaret\n",
    "plot_model(tuned_mod, plot = 'error')"
   ]
  },
  {
   "cell_type": "code",
   "execution_count": null,
   "metadata": {},
   "outputs": [],
   "source": []
  }
 ],
 "metadata": {
  "kernelspec": {
   "display_name": "Python 3",
   "language": "python",
   "name": "python3"
  },
  "language_info": {
   "codemirror_mode": {
    "name": "ipython",
    "version": 3
   },
   "file_extension": ".py",
   "mimetype": "text/x-python",
   "name": "python",
   "nbconvert_exporter": "python",
   "pygments_lexer": "ipython3",
   "version": "3.8.5"
  }
 },
 "nbformat": 4,
 "nbformat_minor": 4
}

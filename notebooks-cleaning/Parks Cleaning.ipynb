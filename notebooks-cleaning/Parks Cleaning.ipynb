{
 "cells": [
  {
   "cell_type": "markdown",
   "id": "8a988407",
   "metadata": {},
   "source": [
    "### Source: https://www.geoapify.com/"
   ]
  },
  {
   "cell_type": "markdown",
   "id": "2e2b2c4e",
   "metadata": {},
   "source": [
    "### Import libraries"
   ]
  },
  {
   "cell_type": "code",
   "execution_count": 1,
   "id": "7f29a1a1",
   "metadata": {},
   "outputs": [],
   "source": [
    "import pandas as pd"
   ]
  },
  {
   "cell_type": "markdown",
   "id": "a956360a",
   "metadata": {},
   "source": [
    "### Read DataFrame"
   ]
  },
  {
   "cell_type": "code",
   "execution_count": 2,
   "id": "b51e6472",
   "metadata": {},
   "outputs": [],
   "source": [
    "df = pd.read_json('parks.json')"
   ]
  },
  {
   "cell_type": "markdown",
   "id": "459e1005",
   "metadata": {},
   "source": [
    "### JSON to Excel"
   ]
  },
  {
   "cell_type": "code",
   "execution_count": 49,
   "id": "287373da",
   "metadata": {},
   "outputs": [],
   "source": [
    "parks = []"
   ]
  },
  {
   "cell_type": "code",
   "execution_count": 50,
   "id": "d2f514af",
   "metadata": {},
   "outputs": [],
   "source": [
    "for i in range(len(df)):\n",
    "    try:\n",
    "        name = df['features'][i]['properties']['name']\n",
    "    except:\n",
    "        name = ''\n",
    "        \n",
    "    city = df['features'][i]['properties']['city']\n",
    "    longitude = df['features'][i]['properties']['lon']\n",
    "    latitude = df['features'][i]['properties']['lat']\n",
    "    category = df['features'][i]['properties']['categories'][0]\n",
    "    d = {'name' : name, 'city' : city, 'latitude' : latitude, 'longitude' : longitude, 'category' : category}\n",
    "    parks.append(d)\n",
    "\n",
    "parks_df = pd.DataFrame(parks)   "
   ]
  },
  {
   "cell_type": "code",
   "execution_count": 52,
   "id": "39abe09c",
   "metadata": {},
   "outputs": [],
   "source": [
    "parks_df.to_excel('parks clean.xlsx')  "
   ]
  }
 ],
 "metadata": {
  "kernelspec": {
   "display_name": "Python 3 (ipykernel)",
   "language": "python",
   "name": "python3"
  },
  "language_info": {
   "codemirror_mode": {
    "name": "ipython",
    "version": 3
   },
   "file_extension": ".py",
   "mimetype": "text/x-python",
   "name": "python",
   "nbconvert_exporter": "python",
   "pygments_lexer": "ipython3",
   "version": "3.10.4"
  }
 },
 "nbformat": 4,
 "nbformat_minor": 5
}

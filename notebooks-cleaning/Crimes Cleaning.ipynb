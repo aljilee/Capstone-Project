{
 "cells": [
  {
   "cell_type": "markdown",
   "id": "6ec4fb3e",
   "metadata": {},
   "source": [
    "### Source: https://data.police.uk/docs/"
   ]
  },
  {
   "cell_type": "code",
   "execution_count": null,
   "id": "da1128db",
   "metadata": {},
   "outputs": [],
   "source": [
    "import pandas as pd\n",
    "import os\n",
    "import requests as r"
   ]
  },
  {
   "cell_type": "markdown",
   "id": "4c989f72",
   "metadata": {},
   "source": [
    "### Specify path of crimes folder"
   ]
  },
  {
   "cell_type": "code",
   "execution_count": null,
   "id": "3ca207ed",
   "metadata": {},
   "outputs": [],
   "source": [
    "path = 'crimes.xlsx'"
   ]
  },
  {
   "cell_type": "markdown",
   "id": "44ae146c",
   "metadata": {},
   "source": [
    "### Read and concatenate data"
   ]
  },
  {
   "cell_type": "code",
   "execution_count": null,
   "id": "ad5c4e2b",
   "metadata": {},
   "outputs": [],
   "source": [
    "def load_data(path):\n",
    "    \n",
    "    \n",
    "    df = pd.DataFrame()\n",
    "    \n",
    "    # Iterate through all folders in path and read\n",
    "    for root, subdirectories, files in os.walk(path):\n",
    "        for file in files:\n",
    "            temp = pd.read_csv(os.path.join(root, file))\n",
    "            df = pd.concat([df, pd.DataFrame.from_records(temp)])\n",
    "    \n",
    "    return df"
   ]
  },
  {
   "cell_type": "code",
   "execution_count": null,
   "id": "b5aebad3",
   "metadata": {},
   "outputs": [],
   "source": [
    "df = load_data(path)"
   ]
  },
  {
   "cell_type": "markdown",
   "id": "f68417b1",
   "metadata": {},
   "source": [
    "### Convert longitude and latitude to Postal Codes"
   ]
  },
  {
   "cell_type": "code",
   "execution_count": null,
   "id": "e5945343",
   "metadata": {},
   "outputs": [],
   "source": [
    "# Data cleaning\n",
    "df['Year'] = df['Month'].str.split('-').str[0]\n",
    "df['Month'] = df['Month'].str.split('-').str[1]\n",
    "\n",
    "# Drop empty longitude and latitudes\n",
    "df.dropna(subset = ['Longitude', 'Latitude'], inplace = True)\n",
    "\n",
    "# Integer encode crime type\n",
    "c = df['Crime type'].astype('category')\n",
    "df['Crime type'] = df['Crime type'].astype('category').cat.codes\n",
    "\n",
    "# Create mapping\n",
    "map_cat = dict(enumerate(c.cat.categories))\n",
    "\n",
    "# Create postal code column\n",
    "df['Postal Code'] = 0\n",
    "\n",
    "# Reset index\n",
    "df.reset_index(drop = True, inplace = True)\n",
    "\n",
    "# Use API to convert lat and long to postal code\n",
    "for i in range(len(df)):\n",
    "    latitude = df['Latitude'][i]\n",
    "    longitude = df['Longitude'][i]\n",
    "    response = r.get('https://findthatpostcode.uk/points/' + str(latitude) + '%2C' + str(longitude) + '.json')\n",
    "    postal_code = response.json()['data']['relationships']['nearest_postcode']['data']['id']\n",
    "    df.loc[i, 'Postal Code'] = postal_code"
   ]
  },
  {
   "cell_type": "code",
   "execution_count": null,
   "id": "93ed9d6c",
   "metadata": {},
   "outputs": [],
   "source": []
  },
  {
   "cell_type": "markdown",
   "id": "94c90944",
   "metadata": {},
   "source": [
    "### Convert to pivot"
   ]
  },
  {
   "cell_type": "code",
   "execution_count": 8,
   "id": "eeb5540c",
   "metadata": {},
   "outputs": [],
   "source": [
    "df_pivot.to_excel('C:/Users/Alexander.Lee/OneDrive - Community Solutions/Desktop/postal_codes.xlsx', sheet_name = 'sheet1', index = False)"
   ]
  }
 ],
 "metadata": {
  "kernelspec": {
   "display_name": "Python 3 (ipykernel)",
   "language": "python",
   "name": "python3"
  },
  "language_info": {
   "codemirror_mode": {
    "name": "ipython",
    "version": 3
   },
   "file_extension": ".py",
   "mimetype": "text/x-python",
   "name": "python",
   "nbconvert_exporter": "python",
   "pygments_lexer": "ipython3",
   "version": "3.10.4"
  }
 },
 "nbformat": 4,
 "nbformat_minor": 5
}

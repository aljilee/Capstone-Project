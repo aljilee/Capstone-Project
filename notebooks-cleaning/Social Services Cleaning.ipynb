{
 "cells": [
  {
   "cell_type": "markdown",
   "id": "de17a5d5",
   "metadata": {},
   "source": [
    "### Source: https://www.cqc.org.uk/search/all"
   ]
  },
  {
   "cell_type": "code",
   "execution_count": null,
   "id": "d500f17a",
   "metadata": {},
   "outputs": [],
   "source": [
    "import pandas as pd"
   ]
  },
  {
   "cell_type": "code",
   "execution_count": null,
   "id": "dd7bff51",
   "metadata": {},
   "outputs": [],
   "source": [
    "# Read data\n",
    "path = 'social services.csv'\n",
    "df = pd.read_csv(path)"
   ]
  },
  {
   "cell_type": "code",
   "execution_count": null,
   "id": "501c701f",
   "metadata": {},
   "outputs": [],
   "source": [
    "# Clean data\n",
    "df = df[['Address 1', 'Town/City', 'Postcode', 'Local authority', 'Service types', 'Specialisms/services']]"
   ]
  },
  {
   "cell_type": "code",
   "execution_count": null,
   "id": "dd218442",
   "metadata": {},
   "outputs": [],
   "source": [
    "# Read Elmbridge Postal Codes\n",
    "postal_codes_df = pd.read_csv('C:/Users/Alexander.Lee/OneDrive - Community Solutions/Desktop/School/Capstone/Elmbridge Postcodes.csv')\n",
    "postal_codes_df_clean = postal_codes_df[['Postcode', 'Latitude', 'Longitude']]"
   ]
  },
  {
   "cell_type": "code",
   "execution_count": null,
   "id": "335a8616",
   "metadata": {},
   "outputs": [],
   "source": [
    "df['Services'] = df['Service types'].str.split(',').str[0]\n",
    "df['Services'] = df['Services'].str.split('(').str[0]\n",
    "df['Services'] = df['Services'].str.split('-').str[0]\n",
    "df.reset_index(inplace = True, drop = True)"
   ]
  },
  {
   "cell_type": "code",
   "execution_count": null,
   "id": "e830a952",
   "metadata": {},
   "outputs": [],
   "source": [
    "# Merge to get latitude and longitude\n",
    "df_merged = df.merge(postal_codes_df_clean, how = 'left', on = 'Postcode').dropna(subset = ['Latitude']).reset_index(drop = True)\n",
    "\n",
    "# Export to excel\n",
    "df_merged.to_excel('services clean.xlsx', sheet_name = 'Sheet_name_1')  "
   ]
  }
 ],
 "metadata": {
  "kernelspec": {
   "display_name": "Python 3 (ipykernel)",
   "language": "python",
   "name": "python3"
  },
  "language_info": {
   "codemirror_mode": {
    "name": "ipython",
    "version": 3
   },
   "file_extension": ".py",
   "mimetype": "text/x-python",
   "name": "python",
   "nbconvert_exporter": "python",
   "pygments_lexer": "ipython3",
   "version": "3.10.4"
  }
 },
 "nbformat": 4,
 "nbformat_minor": 5
}

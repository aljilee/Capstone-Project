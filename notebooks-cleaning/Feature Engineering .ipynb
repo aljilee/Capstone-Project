{
 "cells": [
  {
   "cell_type": "markdown",
   "id": "c21da452",
   "metadata": {},
   "source": [
    "### Import library"
   ]
  },
  {
   "cell_type": "code",
   "execution_count": null,
   "id": "d366a679",
   "metadata": {},
   "outputs": [],
   "source": [
    "import pandas as pd"
   ]
  },
  {
   "cell_type": "markdown",
   "id": "adcd9bc1",
   "metadata": {},
   "source": [
    "### Read Elmbridge Postcodes"
   ]
  },
  {
   "cell_type": "code",
   "execution_count": null,
   "id": "2c077630",
   "metadata": {},
   "outputs": [],
   "source": [
    "# Read postcodes\n",
    "postcodes_df = pd.read_csv('Elmbridge Postcodes.csv')"
   ]
  },
  {
   "cell_type": "markdown",
   "id": "96ed6022",
   "metadata": {},
   "source": [
    "### Create dictionary to map Postcodes to Wards"
   ]
  },
  {
   "cell_type": "code",
   "execution_count": null,
   "id": "72a22026",
   "metadata": {},
   "outputs": [],
   "source": [
    "# Create dict\n",
    "d = dict(zip(postcodes_df['Postcode'], postcodes_df['Ward']))"
   ]
  },
  {
   "cell_type": "markdown",
   "id": "c35c9ad2",
   "metadata": {},
   "source": [
    "### Map all parks to wards"
   ]
  },
  {
   "cell_type": "code",
   "execution_count": null,
   "id": "f47ae0a2",
   "metadata": {},
   "outputs": [],
   "source": [
    "# Read parks\n",
    "parks_df = pd.read_excel('parks clean.xlsx')\n",
    "\n",
    "# Get wards for park\n",
    "parks_df['Ward'] = parks_df['ZIP Code'].map(d)\n",
    "\n",
    "parks_df = parks_df.dropna(subset = 'Ward')\n",
    "parks_df = parks_df[['name', 'latitude', 'longitude', 'category', 'ZIP Code', 'Ward']]\n",
    "parks_df.to_excel('C:/Users/Alexander.Lee/OneDrive - Community Solutions/Desktop/parks.xlsx')\n",
    "parks_df"
   ]
  },
  {
   "cell_type": "markdown",
   "id": "f17f1468",
   "metadata": {},
   "source": [
    "### Map all schools to wards"
   ]
  },
  {
   "cell_type": "code",
   "execution_count": null,
   "id": "a6e10c34",
   "metadata": {
    "scrolled": true
   },
   "outputs": [],
   "source": [
    "# Read schools\n",
    "schools_df = pd.read_excel('schools clean.xlsx')\n",
    "\n",
    "# Get wards for schools\n",
    "schools_df['Ward'] = schools_df['Postcode'].map(d)\n",
    "\n",
    "schools_df = schools_df[['ID', 'Postcode', 'Primary', 'Secondary', 'Post 16', 'Gender', 'Rating', 'Postcode', 'Ward']].copy()\n",
    "schools_df['Rating'] = schools_df['Rating'].replace(['Outstanding', 'Good', 'Requires improvement', 'Serious Weaknesses', 'Special Measures'], [1, 2, 3, 4, 5])\n",
    "schools_df"
   ]
  },
  {
   "cell_type": "markdown",
   "id": "7129d3fd",
   "metadata": {},
   "source": [
    "### Map all services to wards"
   ]
  },
  {
   "cell_type": "code",
   "execution_count": null,
   "id": "0a89c43c",
   "metadata": {
    "scrolled": true
   },
   "outputs": [],
   "source": [
    "# Read services\n",
    "services_df = pd.read_excel('services.xlsx')\n",
    "\n",
    "# Get wards for services\n",
    "services_df['Ward'] = services_df['Postcode'].map(d)\n",
    "\n",
    "# Clean columns\n",
    "services_df = services_df[['Services', 'Specialisms/services', 'Latitude', 'Longitude', 'Postcode', 'Ward']].copy()\n",
    "\n",
    "services_df"
   ]
  },
  {
   "cell_type": "markdown",
   "id": "7b8edc3c",
   "metadata": {},
   "source": [
    "### Map crimes to wards"
   ]
  },
  {
   "cell_type": "code",
   "execution_count": null,
   "id": "448d4ea7",
   "metadata": {},
   "outputs": [],
   "source": [
    "# Read crimes\n",
    "crimes_df = pd.read_excel('C:/Users/Alexander.Lee/OneDrive - Community Solutions/Desktop/crimes.xlsx')"
   ]
  },
  {
   "cell_type": "markdown",
   "id": "f9a39223",
   "metadata": {},
   "source": [
    "### Classify crimes by type (high danger or low danger)"
   ]
  },
  {
   "cell_type": "code",
   "execution_count": null,
   "id": "fd1af621",
   "metadata": {},
   "outputs": [],
   "source": [
    "# Read police mapping\n",
    "crime_map = pd.read_excel('C:/Users/Alexander.Lee/OneDrive - Community Solutions/Desktop/School/Capstone/crime map.xlsx')"
   ]
  },
  {
   "cell_type": "code",
   "execution_count": null,
   "id": "b693daae",
   "metadata": {
    "scrolled": false
   },
   "outputs": [],
   "source": [
    "# Get ward of crime\n",
    "crimes_df['Ward'] = crimes_df['ZIP Code'].map(d)\n",
    "\n",
    "# Fill in NA type\n",
    "crimes_df['Crime type'] = crimes_df['Crime type'].fillna('Crime Type N/A')\n",
    "\n",
    "# Create dict\n",
    "crime_type_map = dict(zip(crime_map['Row Labels in our Dataset'].str.split(':').str[1].str.split(\"'\").str[0].str.strip(), crime_map['Category']))\n",
    "\n",
    "# Get type of crime for each crime\n",
    "crimes_df['Severity'] = crimes_df['Crime type'].map(crime_type_map)"
   ]
  },
  {
   "cell_type": "markdown",
   "id": "aa1ccd55",
   "metadata": {},
   "source": [
    "### Get number of parks, number of schools by type, number of social services for each ward"
   ]
  },
  {
   "cell_type": "code",
   "execution_count": null,
   "id": "06280b90",
   "metadata": {},
   "outputs": [],
   "source": [
    "df = pd.DataFrame(columns = ['Ward', 'Number of Parks', 'Number of Primary Schools', 'Primary School AVG Rating', \n",
    "                             'Number of Secondary Schools', 'Secondary School AVG Rating', 'Number of Post 16 Schools', \n",
    "                             'Post 16 School AVG Rating', 'Number of Healthcare Services', 'Number of Dentistries'])\n",
    "\n",
    "wards = list(set(d.values()))\n",
    "\n",
    "for i in range(len(wards)):\n",
    "    \n",
    "    ward = wards[i]\n",
    "    number_of_parks = len(parks_df.loc[parks_df['Ward'] == wards[i]])\n",
    "    number_primary = len(schools_df.loc[(schools_df['Primary'] == 1) & (schools_df['Ward'] == wards[i])])\n",
    "    primary_rating = schools_df.loc[(schools_df['Primary'] == 1) & (schools_df['Ward'] == wards[i])].dropna(subset = 'Rating')['Rating'].mean()\n",
    "    number_secondary = len(schools_df.loc[(schools_df['Secondary'] == 1) & (schools_df['Ward'] == wards[i])]) \n",
    "    secondary_rating = schools_df.loc[(schools_df['Secondary'] == 1) & (schools_df['Ward'] == wards[i])].dropna(subset = 'Rating')['Rating'].mean()\n",
    "    number_post_16 = len(schools_df.loc[(schools_df['Post 16'] == 1) & (schools_df['Ward'] == wards[i])])\n",
    "    post_16_rating = schools_df.loc[(schools_df['Post 16'] == 1) & (schools_df['Ward'] == wards[i])].dropna(subset = 'Rating')['Rating'].mean()\n",
    "    number_of_healthcare = len(services_df.loc[(services_df['Services'] == 'Doctors/GPs') & (services_df['Ward'] == wards[i])])\n",
    "    number_of_dentists = len(services_df.loc[(services_df['Services'] == 'Dentist') & (services_df['Ward'] == wards[i])])\n",
    "    \n",
    "    data = [ward, number_of_parks, number_primary, primary_rating, number_secondary, secondary_rating, number_post_16,\n",
    "            post_16_rating, number_of_healthcare, number_of_dentists]\n",
    "    df.loc[len(df.index) + 1] = data\n",
    "    df = df.fillna(-1)"
   ]
  },
  {
   "cell_type": "markdown",
   "id": "c31d421a",
   "metadata": {},
   "source": [
    "### Read in pricing data"
   ]
  },
  {
   "cell_type": "code",
   "execution_count": null,
   "id": "84f472cc",
   "metadata": {},
   "outputs": [],
   "source": [
    "# Read in pricing data\n",
    "one_year_df = pd.read_excel('data_1year_features.xlsx')\n",
    "three_year_df = pd.read_excel('data_3year_features.xlsx')\n",
    "five_year_df = pd.read_excel('data_5year_features.xlsx')"
   ]
  },
  {
   "cell_type": "markdown",
   "id": "a9004df3",
   "metadata": {},
   "source": [
    "### Merge with ward features"
   ]
  },
  {
   "cell_type": "code",
   "execution_count": null,
   "id": "fa3013f5",
   "metadata": {},
   "outputs": [],
   "source": [
    "# Merge other features based on ward\n",
    "one_year_df = one_year_df.merge(df, on = 'Ward', how = 'left')\n",
    "three_year_df = three_year_df.merge(df, on = 'Ward', how = 'left')\n",
    "five_year_df = five_year_df.merge(df, on = 'Ward', how = 'left')"
   ]
  },
  {
   "cell_type": "markdown",
   "id": "e1f27db7",
   "metadata": {},
   "source": [
    "### Setup crimes table by type"
   ]
  },
  {
   "cell_type": "code",
   "execution_count": null,
   "id": "b8c3dc10",
   "metadata": {},
   "outputs": [],
   "source": [
    "# Count high severity crimes\n",
    "high_crimes_df = crimes_df.loc[crimes_df['Severity'] == 'High']\n",
    "low_crimes_df = crimes_df.loc[crimes_df['Severity'] == 'Low']"
   ]
  },
  {
   "cell_type": "markdown",
   "id": "914cbcc2",
   "metadata": {},
   "source": [
    "### Count number of crimes in each ward by type past year"
   ]
  },
  {
   "cell_type": "code",
   "execution_count": null,
   "id": "c462c9d9",
   "metadata": {},
   "outputs": [],
   "source": [
    "high_crimes_df = crimes_df.loc[crimes_df['Severity'] == 'High']\n",
    "low_crimes_df = crimes_df.loc[crimes_df['Severity'] == 'Low']\n",
    "\n",
    "one_year_df['Number of High Severity Crimes Previous Year'] = 0\n",
    "one_year_df['Number of Low Severity Crimes Previous Year'] = 0\n",
    "\n",
    "for i in range(len(one_year_df)):\n",
    "    year = one_year_df['Year'][i]\n",
    "    ward = one_year_df['Ward'][i]\n",
    "    one_year_df['Number of High Severity Crimes Previous Year'][i] = len(high_crimes_df.loc[(high_crimes_df['Year'] == year - 1) & (high_crimes_df['Ward'] == ward)])\n",
    "    one_year_df['Number of Low Severity Crimes Previous Year'][i] = len(low_crimes_df.loc[(low_crimes_df['Year'] == year - 1) & (low_crimes_df['Ward'] == ward)])"
   ]
  },
  {
   "cell_type": "code",
   "execution_count": null,
   "id": "dc54bec2",
   "metadata": {},
   "outputs": [],
   "source": [
    "one_year_df.to_excel('one_year_features.xlsx')"
   ]
  },
  {
   "cell_type": "markdown",
   "id": "e2413d7d",
   "metadata": {},
   "source": [
    "### Count number of crimes in each ward by type past 3 years"
   ]
  },
  {
   "cell_type": "code",
   "execution_count": null,
   "id": "e4d2da4b",
   "metadata": {},
   "outputs": [],
   "source": [
    "three_year_df['Number of High Severity Crimes Previous 3 Years'] = 0\n",
    "three_year_df['Number of Low Severity Crimes Previous 3 Years'] = 0\n",
    "\n",
    "\n",
    "for i in range(len(three_year_df)):\n",
    "    year = three_year_df['Year'][i]\n",
    "    ward = three_year_df['Ward'][i]\n",
    "    ward_high_crimes = high_crimes_df.loc[high_crimes_df['Ward'] == ward]\n",
    "    ward_low_crimes = low_crimes_df.loc[low_crimes_df['Ward'] == ward]\n",
    "    \n",
    "    three_year_df['Number of High Severity Crimes Previous 3 Years'][i] = len(ward_high_crimes.loc[(ward_high_crimes['Year'] == year - 1) | (ward_high_crimes['Year'] == year - 2) | (ward_high_crimes['Year'] == year - 3)])\n",
    "    three_year_df['Number of Low Severity Crimes Previous 3 Years'][i] = len(ward_low_crimes.loc[(ward_low_crimes['Year'] == year - 1) | (ward_low_crimes['Year'] == year - 2) | (ward_low_crimes['Year'] == year - 3)])"
   ]
  },
  {
   "cell_type": "code",
   "execution_count": null,
   "id": "cdfe83c4",
   "metadata": {},
   "outputs": [],
   "source": [
    "three_year_df.to_excel('three_year_features.xlsx')"
   ]
  },
  {
   "cell_type": "markdown",
   "id": "fdf1771e",
   "metadata": {},
   "source": [
    "### Count number of crimes in each ward by type past 5 years"
   ]
  },
  {
   "cell_type": "code",
   "execution_count": null,
   "id": "6de7bfe0",
   "metadata": {},
   "outputs": [],
   "source": [
    "five_year_df['Number of High Severity Crimes Previous 5 Years'] = 0\n",
    "five_year_df['Number of Low Severity Crimes Previous 5 Years'] = 0\n",
    "\n",
    "\n",
    "for i in range(len(five_year_df)):\n",
    "    year = five_year_df['Year'][i]\n",
    "    ward = five_year_df['Ward'][i]\n",
    "    ward_high_crimes = high_crimes_df.loc[high_crimes_df['Ward'] == ward]\n",
    "    ward_low_crimes = low_crimes_df.loc[low_crimes_df['Ward'] == ward]\n",
    "    \n",
    "    five_year_df['Number of High Severity Crimes Previous 5 Years'][i] = len(ward_high_crimes.loc[(ward_high_crimes['Year'] == year - 1) | (ward_high_crimes['Year'] == year - 2) | (ward_high_crimes['Year'] == year - 3) | (ward_high_crimes['Year'] == year - 4) | (ward_high_crimes['Year'] == year - 5)])\n",
    "    five_year_df['Number of Low Severity Crimes Previous 5 Years'][i] = len(ward_low_crimes.loc[(ward_low_crimes['Year'] == year - 1) | (ward_low_crimes['Year'] == year - 2) | (ward_low_crimes['Year'] == year - 3) | (ward_low_crimes['Year'] == year - 4) | (ward_low_crimes['Year'] == year - 5)])"
   ]
  },
  {
   "cell_type": "code",
   "execution_count": null,
   "id": "ffc93ba8",
   "metadata": {},
   "outputs": [],
   "source": [
    "five_year_df.to_excel('five_year_features.xlsx')"
   ]
  }
 ],
 "metadata": {
  "kernelspec": {
   "display_name": "Python 3 (ipykernel)",
   "language": "python",
   "name": "python3"
  },
  "language_info": {
   "codemirror_mode": {
    "name": "ipython",
    "version": 3
   },
   "file_extension": ".py",
   "mimetype": "text/x-python",
   "name": "python",
   "nbconvert_exporter": "python",
   "pygments_lexer": "ipython3",
   "version": "3.10.4"
  }
 },
 "nbformat": 4,
 "nbformat_minor": 5
}

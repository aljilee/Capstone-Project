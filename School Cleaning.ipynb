{
 "cells": [
  {
   "cell_type": "markdown",
   "id": "34ef0763",
   "metadata": {},
   "source": [
    "## Source: https://www.compare-school-performance.service.gov.uk/schools-by-type?step=default&table=schools&region=936&geographic=la&for=primary"
   ]
  },
  {
   "cell_type": "code",
   "execution_count": null,
   "id": "e2b565d1",
   "metadata": {},
   "outputs": [],
   "source": [
    "import pandas as pd\n",
    "import glob"
   ]
  },
  {
   "cell_type": "code",
   "execution_count": null,
   "id": "2dc4ffde",
   "metadata": {},
   "outputs": [],
   "source": [
    "# Path of school folder\n",
    "path = 'school'"
   ]
  },
  {
   "cell_type": "code",
   "execution_count": null,
   "id": "77b1201b",
   "metadata": {},
   "outputs": [],
   "source": [
    "# Read all files in folder\n",
    "files = glob.glob(path + '\\*.csv')\n",
    "files_dict = {}\n",
    "\n",
    "for file in files:\n",
    "    df = pd.read_csv(file)\n",
    "    files_dict[file.split('_')[1].split('.')[0]] = df"
   ]
  },
  {
   "cell_type": "code",
   "execution_count": null,
   "id": "eef3d2d3",
   "metadata": {},
   "outputs": [],
   "source": [
    "# Read Elmbridge Postal Codes\n",
    "postal_codes_df = pd.read_csv('Elmbridge Postcodes.csv')\n",
    "postal_codes_df_clean = postal_codes_df[['Postcode', 'Latitude', 'Longitude']]"
   ]
  },
  {
   "cell_type": "code",
   "execution_count": null,
   "id": "4f626e9b",
   "metadata": {},
   "outputs": [],
   "source": [
    "# Clean ks4-pupdest\n",
    "df_ks4_pupdest = files_dict['ks4-pupdest']"
   ]
  },
  {
   "cell_type": "code",
   "execution_count": null,
   "id": "fb08dcc5",
   "metadata": {},
   "outputs": [],
   "source": [
    "# Clean school\n",
    "df_school = files_dict['school']\n",
    "\n",
    "# Clean columns\n",
    "df_school_clean = (df_school[['URN', 'STREET', 'TOWN', 'POSTCODE', 'MINORGROUP', 'SCHOOLTYPE', 'ISPRIMARY', \n",
    "                             'ISSECONDARY', 'ISPOST16', 'GENDER', 'OFSTEDRATING']]).copy()\n",
    "df_school_clean.columns = ['ID', 'Street', 'Town', 'Postcode', 'Type 1', 'Type 2', 'Primary', 'Secondary',\n",
    "                           'Post 16', 'Gender', 'Rating']\n",
    "\n",
    "# Get Postal Codes\n",
    "df_school_clean['Postal Code 1'] = (df_school_clean['Postcode'].str.split(' ').str[0])\n",
    "df_school_clean['Postal Code 2'] = (df_school_clean['Postcode'].str.split(' ').str[1])\n",
    "\n",
    "# Filter by Postal Codes\n",
    "df_school_merged = df_school_clean.merge(postal_codes_df_clean, how = 'left', on = 'Postcode')\n",
    "df_school_merged.dropna(subset = ['Latitude'], inplace = True)\n",
    "df_school_merged.reset_index(drop = True)"
   ]
  },
  {
   "cell_type": "code",
   "execution_count": null,
   "id": "e999f4ec",
   "metadata": {},
   "outputs": [],
   "source": [
    "# Clean swf\n",
    "df_swf = files_dict['swf']\n",
    "\n",
    "# Clean columns\n",
    "df_swf_clean = df_swf[['URN', 'School Phase', 'Total Number of Teachers (Headcount)', \n",
    "                 'Total Number of Non Classroom-based School Support Staff, Excluding Auxiliary Staff (Headcount)',\n",
    "                 'Total Number of Teachers (Full-Time Equivalent)', \n",
    "                 'Total Number of Teaching Assistants (Full-time Equivalent)', \n",
    "                 'Total Number of Non Classroom-based School Support Staff, Excluding Auxiliary Staff (Full-Time Equivalent)',\n",
    "                 'Pupil:     Teacher Ratio', 'Mean Gross FTE Salary of All Teachers (£s)']]\n",
    "\n",
    "df_swf_clean.columns = ['ID', 'School Phase', 'Number of Teachers', 'Number of TAs', 'Number of Support Staff', \n",
    "                 'Number of Full-Time TAs', 'Number of Full-Time Support Staff', 'Student:Teacher Ratio', \n",
    "                 'Mean Salary of All Teachers']\n",
    "\n",
    "# Drop null URN\n",
    "df_swf_clean = df_swf_clean.dropna(subset = 'ID')\n",
    "\n",
    "# Merge other school info table\n",
    "df_school_merged = df_school_merged.merge(df_swf_clean, how = 'left', on = 'ID')\n",
    "df_school_merged.to_excel('schools clean.xlsx')"
   ]
  }
 ],
 "metadata": {
  "kernelspec": {
   "display_name": "Python 3 (ipykernel)",
   "language": "python",
   "name": "python3"
  },
  "language_info": {
   "codemirror_mode": {
    "name": "ipython",
    "version": 3
   },
   "file_extension": ".py",
   "mimetype": "text/x-python",
   "name": "python",
   "nbconvert_exporter": "python",
   "pygments_lexer": "ipython3",
   "version": "3.10.4"
  }
 },
 "nbformat": 4,
 "nbformat_minor": 5
}
